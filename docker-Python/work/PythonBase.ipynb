{
 "cells": [
  {
   "cell_type": "code",
   "execution_count": 28,
   "metadata": {},
   "outputs": [
    {
     "name": "stdout",
     "output_type": "stream",
     "text": [
      "1579019029.6424563\n",
      "20200114162349\n"
     ]
    }
   ],
   "source": [
    "# Date usage\n",
    "import time\n",
    "t = time.time()\n",
    "\n",
    "print(t)\n",
    "print (str(time.strftime(\"%Y%m%d%H%M%S\", time.localtime())))"
   ]
  },
  {
   "cell_type": "code",
   "execution_count": 30,
   "metadata": {},
   "outputs": [
    {
     "data": {
      "text/plain": [
       "'e10adc3949ba59abbe56e057f20f883e'"
      ]
     },
     "execution_count": 30,
     "metadata": {},
     "output_type": "execute_result"
    }
   ],
   "source": [
    "# hash usage\n",
    "import hashlib\n",
    "\n",
    "# m = hashlib.md5()\n",
    "# m.update(b\"hello\")\n",
    "# m.hexdigest()\n",
    "\n",
    "hashlib.md5(\"123456\".encode(encoding=\"utf-8\")).hexdigest()\n",
    "# hashlib.sha256(\"hello world\".encode(encoding=\"utf-8\")).hexdigest()"
   ]
  },
  {
   "cell_type": "code",
   "execution_count": 1,
   "metadata": {},
   "outputs": [
    {
     "data": {
      "text/plain": [
       "5"
      ]
     },
     "execution_count": 1,
     "metadata": {},
     "output_type": "execute_result"
    }
   ],
   "source": [
    "# Built-in Functions\n",
    "# abs(-5)\n",
    "x=-5\n",
    "x.__abs__()"
   ]
  },
  {
   "cell_type": "code",
   "execution_count": 35,
   "metadata": {},
   "outputs": [
    {
     "data": {
      "text/plain": [
       "(True, False)"
      ]
     },
     "execution_count": 35,
     "metadata": {},
     "output_type": "execute_result"
    }
   ],
   "source": [
    "# def all(iterable):\n",
    "#     for element in iterable:\n",
    "#         if not element:\n",
    "#             return False\n",
    "#     return True\n",
    "\n",
    "all([1,2,3,4,5]),all([1,2,3,4,''])"
   ]
  },
  {
   "cell_type": "code",
   "execution_count": 34,
   "metadata": {},
   "outputs": [
    {
     "data": {
      "text/plain": [
       "(True, True, False)"
      ]
     },
     "execution_count": 34,
     "metadata": {},
     "output_type": "execute_result"
    }
   ],
   "source": [
    "# def any(iterable):\n",
    "#     for element in iterable:\n",
    "#         if element:\n",
    "#             return True\n",
    "#     return False\n",
    "\n",
    "any([1,2,3,4,5]),any([1,'',3,4,5]),any(['','','','',''])"
   ]
  },
  {
   "cell_type": "code",
   "execution_count": 18,
   "metadata": {},
   "outputs": [
    {
     "data": {
      "text/plain": [
       "'5'"
      ]
     },
     "execution_count": 18,
     "metadata": {},
     "output_type": "execute_result"
    }
   ],
   "source": [
    "x=5\n",
    "ascii(x)"
   ]
  },
  {
   "cell_type": "code",
   "execution_count": 19,
   "metadata": {},
   "outputs": [
    {
     "data": {
      "text/plain": [
       "'0b101'"
      ]
     },
     "execution_count": 19,
     "metadata": {},
     "output_type": "execute_result"
    }
   ],
   "source": [
    "bin(5)"
   ]
  },
  {
   "cell_type": "code",
   "execution_count": 21,
   "metadata": {},
   "outputs": [
    {
     "data": {
      "text/plain": [
       "('0b101', '1010')"
      ]
     },
     "execution_count": 21,
     "metadata": {},
     "output_type": "execute_result"
    }
   ],
   "source": [
    "format(5,'#b'),format(10,'b')"
   ]
  },
  {
   "cell_type": "code",
   "execution_count": 22,
   "metadata": {},
   "outputs": [
    {
     "data": {
      "text/plain": [
       "('0b101', '1010')"
      ]
     },
     "execution_count": 22,
     "metadata": {},
     "output_type": "execute_result"
    }
   ],
   "source": [
    "f'{5:#b}', f'{10:b}'"
   ]
  },
  {
   "cell_type": "code",
   "execution_count": 33,
   "metadata": {},
   "outputs": [
    {
     "data": {
      "text/plain": [
       "(False, False, False, True)"
      ]
     },
     "execution_count": 33,
     "metadata": {},
     "output_type": "execute_result"
    }
   ],
   "source": [
    "bool(''),bool(None),bool(),bool(1)"
   ]
  },
  {
   "cell_type": "code",
   "execution_count": 32,
   "metadata": {},
   "outputs": [
    {
     "data": {
      "text/plain": [
       "(5, 1)"
      ]
     },
     "execution_count": 32,
     "metadata": {},
     "output_type": "execute_result"
    }
   ],
   "source": [
    "max([1,3,5,2,4]),min([1,3,5,2,4])"
   ]
  },
  {
   "cell_type": "code",
   "execution_count": 1,
   "metadata": {},
   "outputs": [
    {
     "name": "stdout",
     "output_type": "stream",
     "text": [
      "0\n",
      "1\n",
      "2\n",
      "3\n",
      "4\n",
      "5\n",
      "6\n",
      "7\n",
      "8\n",
      "9\n"
     ]
    }
   ],
   "source": [
    "for i in range(10):\n",
    "    print(i)"
   ]
  },
  {
   "cell_type": "code",
   "execution_count": 4,
   "metadata": {},
   "outputs": [
    {
     "name": "stdout",
     "output_type": "stream",
     "text": [
      "{'\"Peter': 1, 'Piper': 4, 'picked': 4, 'a': 2, 'peck': 4, 'of': 4, 'pickled': 4, 'peppers': 4, 'A': 1, 'Peter': 3, 'If': 1, 'Wheres': 1, 'the': 1}\n"
     ]
    }
   ],
   "source": [
    "# 1.Load a variable with sentences\n",
    "sentence = \"\"\"\"Peter Piper picked a peck of pickled peppers A peck of pickled\n",
    "\\\n",
    "peppers Peter Piper picked If Peter Piper picked a peck of pickled \\\n",
    "peppers Wheres the peck of pickled peppers Peter Piper picked\"\"\"\n",
    "# 2.Initialize a dictionary object\n",
    "word_dict = {}\n",
    "# 3.Perform the word count\n",
    "for word in sentence.split():\n",
    "    if word not in word_dict:\n",
    "        word_dict[word] =1\n",
    "    else:\n",
    "        word_dict[word]+=1\n",
    "print(word_dict)"
   ]
  },
  {
   "cell_type": "code",
   "execution_count": 5,
   "metadata": {},
   "outputs": [
    {
     "name": "stdout",
     "output_type": "stream",
     "text": [
      "285\n",
      "285\n"
     ]
    }
   ],
   "source": [
    "class SimpleIterable(object):\n",
    "    def __init__(self, start, end):\n",
    "        self.start = start\n",
    "        self.end = end\n",
    "        \n",
    "    def __iter__(self):\n",
    "        for x in range(self.start, self.end):\n",
    "            yield x**2\n",
    "\n",
    "c = SimpleIterable(1,10)\n",
    "\n",
    "tot = 0\n",
    "for val in iter(c):\n",
    "    tot += val\n",
    "    \n",
    "print(tot)\n",
    "\n",
    "tot = 0\n",
    "for val in iter(c):\n",
    "    tot += val\n",
    "    \n",
    "print(tot)\n"
   ]
  },
  {
   "cell_type": "code",
   "execution_count": 8,
   "metadata": {},
   "outputs": [
    {
     "name": "stdout",
     "output_type": "stream",
     "text": [
      "[4, 9, 16]\n"
     ]
    }
   ],
   "source": [
    "from math import log\n",
    "\n",
    "def square_input(x):\n",
    "    return x*x\n",
    "\n",
    "def apply_func(func_x,input_x):\n",
    "    return map(func_x,input_x)\n",
    "\n",
    "a = [2,3,4]\n",
    "\n",
    "print(list(apply_func(square_input,a)))"
   ]
  },
  {
   "cell_type": "code",
   "execution_count": 16,
   "metadata": {},
   "outputs": [
    {
     "name": "stdout",
     "output_type": "stream",
     "text": [
      "[<function <listcomp>.<lambda> at 0x7f92e83afc80>, <function <listcomp>.<lambda> at 0x7f92e83afb70>, <function <listcomp>.<lambda> at 0x7f92e83af488>]\n"
     ]
    }
   ],
   "source": [
    "a = [10,20,30]\n",
    "\n",
    "b = [lambda x: x%3 == 0 for x in a]\n",
    "\n",
    "print(list(b))\n",
    "\n",
    "#print(list(map(lambda x: x**2, a)))"
   ]
  },
  {
   "cell_type": "code",
   "execution_count": 18,
   "metadata": {},
   "outputs": [
    {
     "name": "stdout",
     "output_type": "stream",
     "text": [
      "[20, 30, 40, 50]\n"
     ]
    }
   ],
   "source": [
    "# Let us declare a list.\n",
    "a = [10,20,30,40,50]\n",
    "# Let us apply Filter function on all the elements of the list.\n",
    "print(list(filter(lambda x:x>10,a)))"
   ]
  },
  {
   "cell_type": "code",
   "execution_count": 21,
   "metadata": {},
   "outputs": [
    {
     "data": {
      "text/plain": [
       "array([[  nan,   nan, 31.11, 56.33,  1.  ],\n",
       "       [  nan,   nan, 12.  , 16.7 ,  2.  ]])"
      ]
     },
     "execution_count": 21,
     "metadata": {},
     "output_type": "execute_result"
    }
   ],
   "source": [
    "import numpy as np\n",
    "from io import StringIO\n",
    "\n",
    "in_data = StringIO(\"30kg,inr2000,31.11,56.33,1\\n52kg,inr8000.35,12,16.7,2\")\n",
    "data = np.genfromtxt(in_data,delimiter=\",\")\n",
    "\n",
    "data"
   ]
  },
  {
   "cell_type": "code",
   "execution_count": 23,
   "metadata": {},
   "outputs": [
    {
     "data": {
      "text/plain": [
       "array([(10, 20, 30), (56, 89, 90), (33, 46, 89)],\n",
       "      dtype=[('a', '<i8'), ('b', '<i8'), ('c', '<i8')])"
      ]
     },
     "execution_count": 23,
     "metadata": {},
     "output_type": "execute_result"
    }
   ],
   "source": [
    "# 1.Let us simulate a small tablular input using StringIO\n",
    "import numpy as np\n",
    "from io import StringIO\n",
    "in_data = StringIO(\"10,20,30\\n56,89,90\\n33,46,89\")\n",
    "# 2.Read the input using numpyâ€TMs genfromtext to create a nummpy array.\n",
    "data = np.genfromtxt(in_data,dtype=int,delimiter=\",\")\n",
    "# cases where we may not need to use some columns.\n",
    "in_data = StringIO(\"10,20,30\\n56,89,90\\n33,46,89\")\n",
    "data = np.genfromtxt(in_data,dtype=int,delimiter=\",\",usecols=(0,1))\n",
    "# providing column names\n",
    "in_data = StringIO(\"10,20,30\\n56,89,90\\n33,46,89\")\n",
    "data = np.genfromtxt(in_data,dtype=int,delimiter=\",\",names=\"a,b,c\")\n",
    "# using column names from data\n",
    "in_data = StringIO(\"a,b,c\\n10,20,30\\n56,89,90\\n33,46,89\")\n",
    "data = np.genfromtxt(in_data,dtype=int,delimiter=\",\",names=True)\n",
    "data"
   ]
  },
  {
   "cell_type": "code",
   "execution_count": 43,
   "metadata": {},
   "outputs": [
    {
     "ename": "TypeError",
     "evalue": "a bytes-like object is required, not 'str'",
     "output_type": "error",
     "traceback": [
      "\u001b[0;31m---------------------------------------------------------------------------\u001b[0m",
      "\u001b[0;31mTypeError\u001b[0m                                 Traceback (most recent call last)",
      "\u001b[0;32m<ipython-input-43-693f4a17fc1f>\u001b[0m in \u001b[0;36m<module>\u001b[0;34m\u001b[0m\n\u001b[1;32m      9\u001b[0m \u001b[0mconvert_funcs\u001b[0m \u001b[0;34m=\u001b[0m \u001b[0;34m{\u001b[0m\u001b[0;36m0\u001b[0m\u001b[0;34m:\u001b[0m\u001b[0mstrip_func_1\u001b[0m\u001b[0;34m,\u001b[0m\u001b[0;36m1\u001b[0m\u001b[0;34m:\u001b[0m\u001b[0mstrip_func_2\u001b[0m\u001b[0;34m}\u001b[0m\u001b[0;34m\u001b[0m\u001b[0;34m\u001b[0m\u001b[0m\n\u001b[1;32m     10\u001b[0m \u001b[0;31m# 3.Now provide this dictionary of functions to genfromtxt.\u001b[0m\u001b[0;34m\u001b[0m\u001b[0;34m\u001b[0m\u001b[0;34m\u001b[0m\u001b[0m\n\u001b[0;32m---> 11\u001b[0;31m \u001b[0mdata\u001b[0m \u001b[0;34m=\u001b[0m \u001b[0mnp\u001b[0m\u001b[0;34m.\u001b[0m\u001b[0mgenfromtxt\u001b[0m\u001b[0;34m(\u001b[0m\u001b[0min_data\u001b[0m\u001b[0;34m,\u001b[0m\u001b[0mdelimiter\u001b[0m\u001b[0;34m=\u001b[0m\u001b[0;34m\",\"\u001b[0m\u001b[0;34m,\u001b[0m \u001b[0mconverters\u001b[0m\u001b[0;34m=\u001b[0m\u001b[0mconvert_funcs\u001b[0m\u001b[0;34m)\u001b[0m\u001b[0;34m\u001b[0m\u001b[0;34m\u001b[0m\u001b[0m\n\u001b[0m\u001b[1;32m     12\u001b[0m \u001b[0;31m# # Using a lambda function to handle conversions\u001b[0m\u001b[0;34m\u001b[0m\u001b[0;34m\u001b[0m\u001b[0;34m\u001b[0m\u001b[0m\n\u001b[1;32m     13\u001b[0m \u001b[0;31m# in_data = StringIO(\"10,20,30\\n56,,90\\n33,46,89\")\u001b[0m\u001b[0;34m\u001b[0m\u001b[0;34m\u001b[0m\u001b[0;34m\u001b[0m\u001b[0m\n",
      "\u001b[0;32m/opt/conda/lib/python3.7/site-packages/numpy/lib/npyio.py\u001b[0m in \u001b[0;36mgenfromtxt\u001b[0;34m(fname, dtype, comments, delimiter, skip_header, skip_footer, converters, missing_values, filling_values, usecols, names, excludelist, deletechars, replace_space, autostrip, case_sensitive, defaultfmt, unpack, usemask, loose, invalid_raise, max_rows, encoding)\u001b[0m\n\u001b[1;32m   2103\u001b[0m         rows = list(\n\u001b[1;32m   2104\u001b[0m             zip(*[[conv._loose_call(_r) for _r in map(itemgetter(i), rows)]\n\u001b[0;32m-> 2105\u001b[0;31m                   for (i, conv) in enumerate(converters)]))\n\u001b[0m\u001b[1;32m   2106\u001b[0m     \u001b[0;32melse\u001b[0m\u001b[0;34m:\u001b[0m\u001b[0;34m\u001b[0m\u001b[0;34m\u001b[0m\u001b[0m\n\u001b[1;32m   2107\u001b[0m         rows = list(\n",
      "\u001b[0;32m/opt/conda/lib/python3.7/site-packages/numpy/lib/npyio.py\u001b[0m in \u001b[0;36m<listcomp>\u001b[0;34m(.0)\u001b[0m\n\u001b[1;32m   2103\u001b[0m         rows = list(\n\u001b[1;32m   2104\u001b[0m             zip(*[[conv._loose_call(_r) for _r in map(itemgetter(i), rows)]\n\u001b[0;32m-> 2105\u001b[0;31m                   for (i, conv) in enumerate(converters)]))\n\u001b[0m\u001b[1;32m   2106\u001b[0m     \u001b[0;32melse\u001b[0m\u001b[0;34m:\u001b[0m\u001b[0;34m\u001b[0m\u001b[0;34m\u001b[0m\u001b[0m\n\u001b[1;32m   2107\u001b[0m         rows = list(\n",
      "\u001b[0;32m/opt/conda/lib/python3.7/site-packages/numpy/lib/npyio.py\u001b[0m in \u001b[0;36m<listcomp>\u001b[0;34m(.0)\u001b[0m\n\u001b[1;32m   2102\u001b[0m     \u001b[0;32mif\u001b[0m \u001b[0mloose\u001b[0m\u001b[0;34m:\u001b[0m\u001b[0;34m\u001b[0m\u001b[0;34m\u001b[0m\u001b[0m\n\u001b[1;32m   2103\u001b[0m         rows = list(\n\u001b[0;32m-> 2104\u001b[0;31m             zip(*[[conv._loose_call(_r) for _r in map(itemgetter(i), rows)]\n\u001b[0m\u001b[1;32m   2105\u001b[0m                   for (i, conv) in enumerate(converters)]))\n\u001b[1;32m   2106\u001b[0m     \u001b[0;32melse\u001b[0m\u001b[0;34m:\u001b[0m\u001b[0;34m\u001b[0m\u001b[0;34m\u001b[0m\u001b[0m\n",
      "\u001b[0;32m/opt/conda/lib/python3.7/site-packages/numpy/lib/_iotools.py\u001b[0m in \u001b[0;36m_loose_call\u001b[0;34m(self, value)\u001b[0m\n\u001b[1;32m    714\u001b[0m     \u001b[0;32mdef\u001b[0m \u001b[0m_loose_call\u001b[0m\u001b[0;34m(\u001b[0m\u001b[0mself\u001b[0m\u001b[0;34m,\u001b[0m \u001b[0mvalue\u001b[0m\u001b[0;34m)\u001b[0m\u001b[0;34m:\u001b[0m\u001b[0;34m\u001b[0m\u001b[0;34m\u001b[0m\u001b[0m\n\u001b[1;32m    715\u001b[0m         \u001b[0;32mtry\u001b[0m\u001b[0;34m:\u001b[0m\u001b[0;34m\u001b[0m\u001b[0;34m\u001b[0m\u001b[0m\n\u001b[0;32m--> 716\u001b[0;31m             \u001b[0;32mreturn\u001b[0m \u001b[0mself\u001b[0m\u001b[0;34m.\u001b[0m\u001b[0mfunc\u001b[0m\u001b[0;34m(\u001b[0m\u001b[0mvalue\u001b[0m\u001b[0;34m)\u001b[0m\u001b[0;34m\u001b[0m\u001b[0;34m\u001b[0m\u001b[0m\n\u001b[0m\u001b[1;32m    717\u001b[0m         \u001b[0;32mexcept\u001b[0m \u001b[0mValueError\u001b[0m\u001b[0;34m:\u001b[0m\u001b[0;34m\u001b[0m\u001b[0;34m\u001b[0m\u001b[0m\n\u001b[1;32m    718\u001b[0m             \u001b[0;32mreturn\u001b[0m \u001b[0mself\u001b[0m\u001b[0;34m.\u001b[0m\u001b[0mdefault\u001b[0m\u001b[0;34m\u001b[0m\u001b[0;34m\u001b[0m\u001b[0m\n",
      "\u001b[0;32m/opt/conda/lib/python3.7/site-packages/numpy/lib/npyio.py\u001b[0m in \u001b[0;36mtobytes_first\u001b[0;34m(x, conv)\u001b[0m\n\u001b[1;32m   1994\u001b[0m                     \u001b[0;32mif\u001b[0m \u001b[0mtype\u001b[0m\u001b[0;34m(\u001b[0m\u001b[0mx\u001b[0m\u001b[0;34m)\u001b[0m \u001b[0;32mis\u001b[0m \u001b[0mbytes\u001b[0m\u001b[0;34m:\u001b[0m\u001b[0;34m\u001b[0m\u001b[0;34m\u001b[0m\u001b[0m\n\u001b[1;32m   1995\u001b[0m                         \u001b[0;32mreturn\u001b[0m \u001b[0mconv\u001b[0m\u001b[0;34m(\u001b[0m\u001b[0mx\u001b[0m\u001b[0;34m)\u001b[0m\u001b[0;34m\u001b[0m\u001b[0;34m\u001b[0m\u001b[0m\n\u001b[0;32m-> 1996\u001b[0;31m                     \u001b[0;32mreturn\u001b[0m \u001b[0mconv\u001b[0m\u001b[0;34m(\u001b[0m\u001b[0mx\u001b[0m\u001b[0;34m.\u001b[0m\u001b[0mencode\u001b[0m\u001b[0;34m(\u001b[0m\u001b[0;34m\"latin1\"\u001b[0m\u001b[0;34m)\u001b[0m\u001b[0;34m)\u001b[0m\u001b[0;34m\u001b[0m\u001b[0;34m\u001b[0m\u001b[0m\n\u001b[0m\u001b[1;32m   1997\u001b[0m                 \u001b[0muser_conv\u001b[0m \u001b[0;34m=\u001b[0m \u001b[0mfunctools\u001b[0m\u001b[0;34m.\u001b[0m\u001b[0mpartial\u001b[0m\u001b[0;34m(\u001b[0m\u001b[0mtobytes_first\u001b[0m\u001b[0;34m,\u001b[0m \u001b[0mconv\u001b[0m\u001b[0;34m=\u001b[0m\u001b[0mconv\u001b[0m\u001b[0;34m)\u001b[0m\u001b[0;34m\u001b[0m\u001b[0;34m\u001b[0m\u001b[0m\n\u001b[1;32m   1998\u001b[0m             \u001b[0;32melse\u001b[0m\u001b[0;34m:\u001b[0m\u001b[0;34m\u001b[0m\u001b[0;34m\u001b[0m\u001b[0m\n",
      "\u001b[0;32m<ipython-input-43-693f4a17fc1f>\u001b[0m in \u001b[0;36m<lambda>\u001b[0;34m(x)\u001b[0m\n\u001b[1;32m      4\u001b[0m \u001b[0min_data\u001b[0m \u001b[0;34m=\u001b[0m \u001b[0mStringIO\u001b[0m\u001b[0;34m(\u001b[0m\u001b[0;34m\"30kg,inr2000,31.11,56.33,1\\n52kg,inr8000.35,12,16.7,2\"\u001b[0m\u001b[0;34m)\u001b[0m\u001b[0;34m\u001b[0m\u001b[0;34m\u001b[0m\u001b[0m\n\u001b[1;32m      5\u001b[0m \u001b[0;31m# 1.Let us define two data pre-processing using lambda functions,\u001b[0m\u001b[0;34m\u001b[0m\u001b[0;34m\u001b[0m\u001b[0;34m\u001b[0m\u001b[0m\n\u001b[0;32m----> 6\u001b[0;31m \u001b[0mstrip_func_1\u001b[0m \u001b[0;34m=\u001b[0m \u001b[0;32mlambda\u001b[0m \u001b[0mx\u001b[0m \u001b[0;34m:\u001b[0m \u001b[0mfloat\u001b[0m\u001b[0;34m(\u001b[0m\u001b[0mx\u001b[0m\u001b[0;34m.\u001b[0m\u001b[0mrstrip\u001b[0m\u001b[0;34m(\u001b[0m\u001b[0;34m\"kg\"\u001b[0m\u001b[0;34m)\u001b[0m\u001b[0;34m)\u001b[0m\u001b[0;34m\u001b[0m\u001b[0;34m\u001b[0m\u001b[0m\n\u001b[0m\u001b[1;32m      7\u001b[0m \u001b[0mstrip_func_2\u001b[0m \u001b[0;34m=\u001b[0m \u001b[0;32mlambda\u001b[0m \u001b[0mx\u001b[0m \u001b[0;34m:\u001b[0m \u001b[0mfloat\u001b[0m\u001b[0;34m(\u001b[0m\u001b[0mx\u001b[0m\u001b[0;34m.\u001b[0m\u001b[0mlstrip\u001b[0m\u001b[0;34m(\u001b[0m\u001b[0;34m\"inr\"\u001b[0m\u001b[0;34m)\u001b[0m\u001b[0;34m)\u001b[0m\u001b[0;34m\u001b[0m\u001b[0;34m\u001b[0m\u001b[0m\n\u001b[1;32m      8\u001b[0m \u001b[0;31m# 2.Let us now create a dictionary of these functions,\u001b[0m\u001b[0;34m\u001b[0m\u001b[0;34m\u001b[0m\u001b[0;34m\u001b[0m\u001b[0m\n",
      "\u001b[0;31mTypeError\u001b[0m: a bytes-like object is required, not 'str'"
     ]
    }
   ],
   "source": [
    "import numpy as np\n",
    "from io import StringIO,BytesIO\n",
    "# Define a data set\n",
    "in_data = StringIO(\"30kg,inr2000,31.11,56.33,1\\n52kg,inr8000.35,12,16.7,2\")\n",
    "# 1.Let us define two data pre-processing using lambda functions,\n",
    "strip_func_1 = lambda x : float(x.rstrip(\"kg\"))\n",
    "strip_func_2 = lambda x : float(x.lstrip(\"inr\"))\n",
    "# 2.Let us now create a dictionary of these functions,\n",
    "convert_funcs = {0:strip_func_1,1:strip_func_2}\n",
    "# 3.Now provide this dictionary of functions to genfromtxt.\n",
    "data = np.genfromtxt(in_data,delimiter=\",\", converters=convert_funcs)\n",
    "# # Using a lambda function to handle conversions\n",
    "# in_data = StringIO(\"10,20,30\\n56,,90\\n33,46,89\")\n",
    "# mss_func = lambda x : float(x.strip() or -999)\n",
    "# data = np.genfromtxt(in_data,delimiter=\",\", converters={1:mss_func})\n",
    "\n",
    "data"
   ]
  },
  {
   "cell_type": "code",
   "execution_count": 44,
   "metadata": {},
   "outputs": [
    {
     "data": {
      "text/plain": [
       "array([[  10.,   20.,   30.],\n",
       "       [  56., -999.,   90.],\n",
       "       [  33.,   46.,   89.]])"
      ]
     },
     "execution_count": 44,
     "metadata": {},
     "output_type": "execute_result"
    }
   ],
   "source": [
    "import numpy as np\n",
    "from io import StringIO\n",
    "in_data = StringIO(\"10,20,30\\n56,,90\\n33,46,89\")\n",
    "mss_func = lambda x : float(x.strip() or -999)\n",
    "data = np.genfromtxt(in_data,delimiter=\",\", converters={1:mss_func})\n",
    "data"
   ]
  },
  {
   "cell_type": "code",
   "execution_count": 46,
   "metadata": {},
   "outputs": [
    {
     "data": {
      "image/png": "[encoded data removed]",
      "text/plain": [
       "<Figure size 432x288 with 1 Axes>"
      ]
     },
     "metadata": {
      "needs_background": "light"
     },
     "output_type": "display_data"
    }
   ],
   "source": [
    "import numpy as np\n",
    "import matplotlib.pyplot as plt\n",
    "def get_random_data():\n",
    "    x_1 = np.random.normal(loc=0.2,scale=0.2,size=(100,100))\n",
    "    x_2 = np.random.normal(loc=0.9,scale=0.1,size=(100,100))\n",
    "    x = np.r_[x_1,x_2]\n",
    "    return x\n",
    "\n",
    "x = get_random_data()\n",
    "plt.cla()\n",
    "plt.figure(1)\n",
    "plt.title(\"Generated Data\")\n",
    "plt.scatter(x[:,0],x[:,1])\n",
    "plt.show()"
   ]
  },
  {
   "cell_type": "code",
   "execution_count": 47,
   "metadata": {},
   "outputs": [
    {
     "name": "stdout",
     "output_type": "stream",
     "text": [
      "[('beck', 2, 26), ('christ', 5, 33), ('ele', 6, 32), ('joe', 1, 53), ('neo', 3, 45), ('trinity', 4, 29)]\n"
     ]
    }
   ],
   "source": [
    "## Python Sorted\n",
    "\n",
    "\n",
    "\n",
    "from operator import itemgetter\n",
    "employee_records = [ ('joe',1,53),('beck',2,26), \\\n",
    "('ele',6,32),('neo',3,45), \\\n",
    "('christ',5,33),('trinity',4,29), \\\n",
    "]\n",
    "print(sorted(employee_records,key=itemgetter(0)))"
   ]
  },
  {
   "cell_type": "code",
   "execution_count": 50,
   "metadata": {},
   "outputs": [
    {
     "name": "stdout",
     "output_type": "stream",
     "text": [
      "[('joe', 1, 53), ('beck', 2, 26), ('neo', 3, 45), ('trinity', 4, 29), ('christ', 5, 33), ('ele', 6, 32)]\n"
     ]
    }
   ],
   "source": [
    "employee_records = [ ('joe',1,53),('beck',2,26), \\\n",
    "('ele',6,32),('neo',3,45), \\\n",
    "('christ',5,33),('trinity',4,29), \\\n",
    "]\n",
    "# 2.Let us now sort it by employee name\n",
    "print(sorted(employee_records,key=lambda emp : emp[1]))"
   ]
  },
  {
   "cell_type": "code",
   "execution_count": 51,
   "metadata": {},
   "outputs": [
    {
     "name": "stdout",
     "output_type": "stream",
     "text": [
      "joe 1 53\n",
      "beck 2 26\n",
      "ele 6 32\n"
     ]
    }
   ],
   "source": [
    "# Let us now enclose the employee records as class objects,\n",
    "class employee(object):\n",
    "    def __init__(self,name,id,age):\n",
    "        self.name = name\n",
    "        self.id = id\n",
    "        self.age = age\n",
    "    def pretty_print(self):\n",
    "        print(self.name,self.id,self.age)\n",
    "# Now let us populate a list with these class objects.\n",
    "employee_records = []\n",
    "\n",
    "emp1 = employee('joe',1,53)\n",
    "emp2 = employee('beck',2,26)\n",
    "emp3 = employee('ele',6,32)\n",
    "\n",
    "employee_records.append(emp1)\n",
    "employee_records.append(emp2)\n",
    "employee_records.append(emp3)\n",
    "# Print the records\n",
    "for emp in employee_records:\n",
    "    emp.pretty_print()\n"
   ]
  },
  {
   "cell_type": "code",
   "execution_count": 53,
   "metadata": {},
   "outputs": [
    {
     "name": "stdout",
     "output_type": "stream",
     "text": [
      "beck 2 26\n",
      "ele 6 32\n",
      "joe 1 53\n"
     ]
    }
   ],
   "source": [
    "from operator import attrgetter\n",
    "\n",
    "employee_records_sorted = sorted(employee_records,key=attrgetter('name'))\n",
    "# Now let us print the sorted list,\n",
    "for emp in employee_records_sorted:\n",
    "    emp.pretty_print()"
   ]
  },
  {
   "cell_type": "code",
   "execution_count": 54,
   "metadata": {},
   "outputs": [
    {
     "name": "stdout",
     "output_type": "stream",
     "text": [
      "ele 6 32\n",
      "beck 2 26\n",
      "joe 1 53\n"
     ]
    }
   ],
   "source": [
    "class employee(object):\n",
    "    def __init__(self,name,id,age):\n",
    "        self.name = name\n",
    "        self.id = id\n",
    "        self.age = age\n",
    "        \n",
    "    def pretty_print(self):\n",
    "        print(self.name,self.id,self.age)\n",
    "        \n",
    "    def random_method(self):\n",
    "        return self.age / self.id\n",
    "    \n",
    "# Populate data\n",
    "employee_records = []\n",
    "\n",
    "emp1 = employee('joe',1,53)\n",
    "emp2 = employee('beck',2,26)\n",
    "emp3 = employee('ele',6,32)\n",
    "\n",
    "employee_records.append(emp1)\n",
    "employee_records.append(emp2)\n",
    "employee_records.append(emp3)\n",
    "\n",
    "from operator import methodcaller\n",
    "employee_records_sorted = sorted(employee_records,key=methodcaller('random_method'))\n",
    "\n",
    "for emp in employee_records_sorted:\n",
    "    emp.pretty_print()"
   ]
  },
  {
   "cell_type": "code",
   "execution_count": 57,
   "metadata": {},
   "outputs": [
    {
     "name": "stdout",
     "output_type": "stream",
     "text": [
      "[1, 2, 3, 'a', 'b', 'c']\n"
     ]
    }
   ],
   "source": [
    "# Load libraries\n",
    "from itertools import chain,compress,combinations,count,islice\n",
    "# 1.Chain example, where different iterables can be combined together.\n",
    "a = [1,2,3]\n",
    "b = ['a','b','c']\n",
    "print(list(chain(a,b))) # prints [1, 2, 3, 'a', 'b', 'c']"
   ]
  },
  {
   "cell_type": "code",
   "execution_count": 58,
   "metadata": {},
   "outputs": [
    {
     "name": "stdout",
     "output_type": "stream",
     "text": [
      "[1, 3]\n"
     ]
    }
   ],
   "source": [
    "# 2.Compress example, a data selector, where the data in the first iterator\n",
    "# is selected based on the second iterator.\n",
    "a = [1,2,3]\n",
    "b = [1,0,1]\n",
    "print(list(compress(a,b))) # prints [1, 3]"
   ]
  },
  {
   "cell_type": "code",
   "execution_count": 59,
   "metadata": {},
   "outputs": [
    {
     "name": "stdout",
     "output_type": "stream",
     "text": [
      "[(1, 2), (1, 3), (1, 4), (2, 3), (2, 4), (3, 4)]\n"
     ]
    }
   ],
   "source": [
    "# 3.From a given list, return n length sub sequences.\n",
    "a = [1,2,3,4]\n",
    "print(list(combinations(a,2))) # prints [(1, 2), (1, 3), (1, 4), (2, 3), (2,4), (3, 4)]"
   ]
  },
  {
   "cell_type": "code",
   "execution_count": 61,
   "metadata": {},
   "outputs": [
    {
     "name": "stdout",
     "output_type": "stream",
     "text": [
      "[0, 2, 4, 6, 8, 10, 12, 14, 16, 18, 20, 22, 24, 26, 28, 30, 32, 34, 36, 38, 40, 42, 44, 46, 48, 50, 52, 54, 56, 58, 60, 62, 64, 66, 68, 70, 72, 74, 76, 78, 80, 82, 84, 86, 88, 90, 92, 94, 96, 98]\n"
     ]
    }
   ],
   "source": [
    "a = range(100)\n",
    "b = islice(a,0,100,2)\n",
    "print(list(b))"
   ]
  },
  {
   "cell_type": "code",
   "execution_count": 65,
   "metadata": {},
   "outputs": [
    {
     "data": {
      "text/plain": [
       "array([1., 2., 3.])"
      ]
     },
     "execution_count": 65,
     "metadata": {},
     "output_type": "execute_result"
    }
   ],
   "source": [
    "import numpy as np\n",
    "\n",
    "a_list = [1,2,3]\n",
    "\n",
    "an_array = np.array(a_list)\n",
    "an_array\n",
    "\n",
    "an_array = np.array(a_list,dtype=float)\n",
    "an_array"
   ]
  },
  {
   "cell_type": "code",
   "execution_count": 66,
   "metadata": {},
   "outputs": [
    {
     "data": {
      "text/plain": [
       "matrix([[ 1.,  2.,  3.],\n",
       "        [ 5.,  6.,  7.],\n",
       "        [ 8.,  9., 10.]])"
      ]
     },
     "execution_count": 66,
     "metadata": {},
     "output_type": "execute_result"
    }
   ],
   "source": [
    "# Creating matrices\n",
    "a_listoflist = [[1,2,3],[5,6,7],[8,9,10]]\n",
    "\n",
    "a_matrix = np.matrix(a_listoflist, dtype=float)\n",
    "\n",
    "a_matrix"
   ]
  },
  {
   "cell_type": "code",
   "execution_count": 68,
   "metadata": {},
   "outputs": [
    {
     "name": "stdout",
     "output_type": "stream",
     "text": [
      "\n",
      "[[ 1.  2.  3.]\n",
      " [ 5.  6.  7.]\n",
      " [ 8.  9. 10.]]\n",
      "\n",
      "Nuber of elements in a = 9\n",
      "Number of dimensions in a = 2\n",
      "Rows and Columns in a  (3, 3)\n",
      "\n"
     ]
    }
   ],
   "source": [
    "#Recipe_1b.py\n",
    "# A simple function to examine given numpy object\n",
    "def display_shape(a):\n",
    "    print()\n",
    "    print(a)\n",
    "    print()\n",
    "    print(\"Nuber of elements in a = %d\"%(a.size))\n",
    "    print(\"Number of dimensions in a = %d\"%(a.ndim))\n",
    "    print(\"Rows and Columns in a \",a.shape)\n",
    "    print()\n",
    "display_shape(a_matrix)"
   ]
  },
  {
   "cell_type": "code",
   "execution_count": 70,
   "metadata": {},
   "outputs": [
    {
     "name": "stdout",
     "output_type": "stream",
     "text": [
      "\n",
      "[1. 2. 3. 4. 5. 6. 7. 8. 9.]\n",
      "\n",
      "Nuber of elements in a = 9\n",
      "Number of dimensions in a = 1\n",
      "Rows and Columns in a  (9,)\n",
      "\n"
     ]
    },
    {
     "data": {
      "text/plain": [
       "45.0"
      ]
     },
     "execution_count": 70,
     "metadata": {},
     "output_type": "execute_result"
    }
   ],
   "source": [
    "#Recipe_1c.py\n",
    "# Alternate ways of creating arrays\n",
    "# 1. Leverage np.arange to create numpy array\n",
    "created_array = np.arange(1,10,dtype=float)\n",
    "display_shape(created_array)\n",
    "sum(created_array)"
   ]
  },
  {
   "cell_type": "code",
   "execution_count": 71,
   "metadata": {},
   "outputs": [
    {
     "name": "stdout",
     "output_type": "stream",
     "text": [
      "\n",
      "[ 1.          1.18367347  1.36734694  1.55102041  1.73469388  1.91836735\n",
      "  2.10204082  2.28571429  2.46938776  2.65306122  2.83673469  3.02040816\n",
      "  3.20408163  3.3877551   3.57142857  3.75510204  3.93877551  4.12244898\n",
      "  4.30612245  4.48979592  4.67346939  4.85714286  5.04081633  5.2244898\n",
      "  5.40816327  5.59183673  5.7755102   5.95918367  6.14285714  6.32653061\n",
      "  6.51020408  6.69387755  6.87755102  7.06122449  7.24489796  7.42857143\n",
      "  7.6122449   7.79591837  7.97959184  8.16326531  8.34693878  8.53061224\n",
      "  8.71428571  8.89795918  9.08163265  9.26530612  9.44897959  9.63265306\n",
      "  9.81632653 10.        ]\n",
      "\n",
      "Nuber of elements in a = 50\n",
      "Number of dimensions in a = 1\n",
      "Rows and Columns in a  (50,)\n",
      "\n"
     ]
    }
   ],
   "source": [
    "# 2. Using np.linspace to create numpy array\n",
    "created_array = np.linspace(1,10)\n",
    "display_shape(created_array)"
   ]
  },
  {
   "cell_type": "code",
   "execution_count": 72,
   "metadata": {},
   "outputs": [
    {
     "name": "stdout",
     "output_type": "stream",
     "text": [
      "\n",
      "[1.00000000e+01 1.52641797e+01 2.32995181e+01 3.55648031e+01\n",
      " 5.42867544e+01 8.28642773e+01 1.26485522e+02 1.93069773e+02\n",
      " 2.94705170e+02 4.49843267e+02 6.86648845e+02 1.04811313e+03\n",
      " 1.59985872e+03 2.44205309e+03 3.72759372e+03 5.68986603e+03\n",
      " 8.68511374e+03 1.32571137e+04 2.02358965e+04 3.08884360e+04\n",
      " 4.71486636e+04 7.19685673e+04 1.09854114e+05 1.67683294e+05\n",
      " 2.55954792e+05 3.90693994e+05 5.96362332e+05 9.10298178e+05\n",
      " 1.38949549e+06 2.12095089e+06 3.23745754e+06 4.94171336e+06\n",
      " 7.54312006e+06 1.15139540e+07 1.75751062e+07 2.68269580e+07\n",
      " 4.09491506e+07 6.25055193e+07 9.54095476e+07 1.45634848e+08\n",
      " 2.22299648e+08 3.39322177e+08 5.17947468e+08 7.90604321e+08\n",
      " 1.20679264e+09 1.84206997e+09 2.81176870e+09 4.29193426e+09\n",
      " 6.55128557e+09 1.00000000e+10]\n",
      "\n",
      "Nuber of elements in a = 50\n",
      "Number of dimensions in a = 1\n",
      "Rows and Columns in a  (50,)\n",
      "\n"
     ]
    }
   ],
   "source": [
    "# 3. Create numpy arrays in using np.logspace\n",
    "created_array = np.logspace(1,10,base=10.0)\n",
    "display_shape(created_array)"
   ]
  },
  {
   "cell_type": "code",
   "execution_count": 73,
   "metadata": {},
   "outputs": [
    {
     "name": "stdout",
     "output_type": "stream",
     "text": [
      "\n",
      "[1 3 5 7 9]\n",
      "\n",
      "Nuber of elements in a = 5\n",
      "Number of dimensions in a = 1\n",
      "Rows and Columns in a  (5,)\n",
      "\n"
     ]
    }
   ],
   "source": [
    "# Specify step size in arange while creating\n",
    "# an array. This is where it is different\n",
    "# from np.linspace\n",
    "created_array = np.arange(1,10,2,dtype=int)\n",
    "display_shape(created_array)"
   ]
  },
  {
   "cell_type": "code",
   "execution_count": 74,
   "metadata": {},
   "outputs": [
    {
     "name": "stdout",
     "output_type": "stream",
     "text": [
      "\n",
      "[[1. 1. 1.]\n",
      " [1. 1. 1.]\n",
      " [1. 1. 1.]]\n",
      "\n",
      "Nuber of elements in a = 9\n",
      "Number of dimensions in a = 2\n",
      "Rows and Columns in a  (3, 3)\n",
      "\n"
     ]
    }
   ],
   "source": [
    "#Recipe_1d.py\n",
    "# Create a matrix will all elements as 1\n",
    "ones_matrix = np.ones((3,3))\n",
    "display_shape(ones_matrix)"
   ]
  },
  {
   "cell_type": "code",
   "execution_count": 77,
   "metadata": {},
   "outputs": [
    {
     "name": "stdout",
     "output_type": "stream",
     "text": [
      "\n",
      "[[[0. 0. 0.]\n",
      "  [0. 0. 0.]\n",
      "  [0. 0. 0.]]\n",
      "\n",
      " [[0. 0. 0.]\n",
      "  [0. 0. 0.]\n",
      "  [0. 0. 0.]]\n",
      "\n",
      " [[0. 0. 0.]\n",
      "  [0. 0. 0.]\n",
      "  [0. 0. 0.]]]\n",
      "\n",
      "Nuber of elements in a = 27\n",
      "Number of dimensions in a = 3\n",
      "Rows and Columns in a  (3, 3, 3)\n",
      "\n"
     ]
    }
   ],
   "source": [
    "# Create a matrix with all elements as 0\n",
    "zeros_matrix = np.zeros((3,3,3))\n",
    "display_shape(zeros_matrix)"
   ]
  },
  {
   "cell_type": "code",
   "execution_count": 86,
   "metadata": {},
   "outputs": [
    {
     "name": "stdout",
     "output_type": "stream",
     "text": [
      "\n",
      "[[1. 0. 0.]\n",
      " [0. 1. 0.]\n",
      " [0. 0. 1.]]\n",
      "\n",
      "Nuber of elements in a = 9\n",
      "Number of dimensions in a = 2\n",
      "Rows and Columns in a  (3, 3)\n",
      "\n",
      "\n",
      "[[0. 0. 0.]\n",
      " [0. 0. 0.]\n",
      " [1. 0. 0.]]\n",
      "\n",
      "Nuber of elements in a = 9\n",
      "Number of dimensions in a = 2\n",
      "Rows and Columns in a  (3, 3)\n",
      "\n"
     ]
    }
   ],
   "source": [
    "# Identity matrix\n",
    "# k parameter controls the index of 1\n",
    "# if k =0, (0,0),(1,1,),(2,2) cell values\n",
    "# are set to 1 in a 3 x 3 matrix\n",
    "identity_matrix = np.eye(N=3,M=3,k=0)\n",
    "display_shape(identity_matrix)\n",
    "identity_matrix = np.eye(N=3,k=-2)\n",
    "display_shape(identity_matrix)"
   ]
  },
  {
   "cell_type": "code",
   "execution_count": 87,
   "metadata": {},
   "outputs": [
    {
     "name": "stdout",
     "output_type": "stream",
     "text": [
      "\n",
      "[[0 1 2]\n",
      " [3 4 5]\n",
      " [6 7 8]]\n",
      "\n",
      "Nuber of elements in a = 9\n",
      "Number of dimensions in a = 2\n",
      "Rows and Columns in a  (3, 3)\n",
      "\n"
     ]
    }
   ],
   "source": [
    "# Array shaping\n",
    "a_matrix = np.arange(9).reshape(3,3)\n",
    "display_shape(a_matrix)"
   ]
  },
  {
   "cell_type": "code",
   "execution_count": 91,
   "metadata": {},
   "outputs": [
    {
     "name": "stdout",
     "output_type": "stream",
     "text": [
      "[[ 0  2  4]\n",
      " [ 6  8 10]\n",
      " [12 14 16]]\n",
      "[[ 0  1  4]\n",
      " [ 9 16 25]\n",
      " [36 49 64]]\n",
      "[[ 15  18  21]\n",
      " [ 42  54  66]\n",
      " [ 69  90 111]]\n"
     ]
    }
   ],
   "source": [
    "#Recipe_1f.py\n",
    "# Matrix operations\n",
    "a_matrix = np.arange(9).reshape(3,3)\n",
    "b_matrix = np.arange(9).reshape(3,3)\n",
    "\n",
    "print(a_matrix + b_matrix)\n",
    "print(a_matrix * b_matrix)\n",
    "print(np.dot(a_matrix,b_matrix))"
   ]
  },
  {
   "cell_type": "code",
   "execution_count": 95,
   "metadata": {},
   "outputs": [
    {
     "name": "stdout",
     "output_type": "stream",
     "text": [
      "[[[0 0 0]\n",
      "  [0 0 0]\n",
      "  [0 0 0]]\n",
      "\n",
      " [[1 1 1]\n",
      "  [1 1 1]\n",
      "  [1 1 1]]\n",
      "\n",
      " [[2 2 2]\n",
      "  [2 2 2]\n",
      "  [2 2 2]]]\n",
      "[[[0 0 0]\n",
      "  [1 1 1]\n",
      "  [2 2 2]]\n",
      "\n",
      " [[0 0 0]\n",
      "  [1 1 1]\n",
      "  [2 2 2]]\n",
      "\n",
      " [[0 0 0]\n",
      "  [1 1 1]\n",
      "  [2 2 2]]]\n",
      "[[[0 1 2]\n",
      "  [0 1 2]\n",
      "  [0 1 2]]\n",
      "\n",
      " [[0 1 2]\n",
      "  [0 1 2]\n",
      "  [0 1 2]]\n",
      "\n",
      " [[0 1 2]\n",
      "  [0 1 2]\n",
      "  [0 1 2]]]\n"
     ]
    }
   ],
   "source": [
    "xx,yy,zz = np.mgrid[0:3,0:3,0:3]\n",
    "\n",
    "# xx = xx.flatten()\n",
    "# yy = yy.flatten()\n",
    "# zz = zz.flatten()\n",
    "\n",
    "print(xx)\n",
    "print(yy)\n",
    "print(zz)"
   ]
  },
  {
   "cell_type": "code",
   "execution_count": 97,
   "metadata": {},
   "outputs": [
    {
     "name": "stdout",
     "output_type": "stream",
     "text": [
      "[ 5 90 43 57 49 10 10 71 11 28]\n"
     ]
    }
   ],
   "source": [
    "# Random numbers\n",
    "general_random_numbers = np.random.randint(1,100, size=10)\n",
    "print(general_random_numbers)"
   ]
  },
  {
   "cell_type": "code",
   "execution_count": 98,
   "metadata": {},
   "outputs": [
    {
     "name": "stdout",
     "output_type": "stream",
     "text": [
      "[ 0.11374305  0.05700805  0.09154484 -0.07636608  0.40008852  0.46346601\n",
      " -0.00519855 -0.07915259  0.33918196  0.26345976]\n"
     ]
    }
   ],
   "source": [
    "uniform_rnd_numbers = np.random.normal(loc=0.2,scale=0.2,size=10)\n",
    "print(uniform_rnd_numbers)"
   ]
  },
  {
   "cell_type": "code",
   "execution_count": 101,
   "metadata": {},
   "outputs": [
    {
     "data": {
      "image/png": "[encoded data removed]",
      "text/plain": [
       "<Figure size 432x288 with 1 Axes>"
      ]
     },
     "metadata": {
      "needs_background": "light"
     },
     "output_type": "display_data"
    },
    {
     "data": {
      "image/png": "[encoded data removed]",
      "text/plain": [
       "<Figure size 432x288 with 1 Axes>"
      ]
     },
     "metadata": {
      "needs_background": "light"
     },
     "output_type": "display_data"
    },
    {
     "data": {
      "image/png": "[encoded data removed]",
      "text/plain": [
       "<Figure size 432x288 with 1 Axes>"
      ]
     },
     "metadata": {
      "needs_background": "light"
     },
     "output_type": "display_data"
    },
    {
     "data": {
      "image/png": "[encoded data removed]",
      "text/plain": [
       "<Figure size 432x288 with 1 Axes>"
      ]
     },
     "metadata": {
      "needs_background": "light"
     },
     "output_type": "display_data"
    }
   ],
   "source": [
    "#Recipe_2a.py\n",
    "import numpy as np\n",
    "import matplotlib.pyplot as plt\n",
    "\n",
    "def simple_line_plot(x,y,figure_no):\n",
    "    plt.figure(figure_no)\n",
    "    plt.plot(x,y)\n",
    "    plt.xlabel('x values')\n",
    "    plt.ylabel('y values')\n",
    "    plt.title('Simple Line')\n",
    "    \n",
    "def simple_dots(x,y,figure_no):\n",
    "    plt.figure(figure_no)\n",
    "    plt.plot(x,y,'or')\n",
    "    plt.xlabel('x values')\n",
    "    plt.ylabel('y values')\n",
    "    plt.title('Simple Dots')\n",
    "    \n",
    "def simple_scatter(x,y,figure_no):\n",
    "    plt.figure(figure_no)\n",
    "    plt.scatter(x,y)\n",
    "    plt.xlabel('x values')\n",
    "    plt.ylabel('y values')\n",
    "    plt.title('Simple scatter')\n",
    "    \n",
    "def scatter_with_color(x,y,labels,figure_no):\n",
    "    plt.figure(figure_no)\n",
    "    plt.scatter(x,y,c=labels)\n",
    "    plt.xlabel('x values')\n",
    "    plt.ylabel('y values')\n",
    "    plt.title('Scatter with color')\n",
    "    \n",
    "if __name__ == \"__main__\":\n",
    "    plt.close('all')\n",
    "    # Sample x y data for line and simple dot plots\n",
    "    x = np.arange(1,100,dtype=float)\n",
    "    y = np.array([np.power(xx,2) for xx in x])\n",
    "    figure_no=1\n",
    "    simple_line_plot(x,y,figure_no)\n",
    "    figure_no+=1\n",
    "    simple_dots(x,y,figure_no)\n",
    "    # Sample x,y data for scatter plot\n",
    "    x = np.random.uniform(size=100)\n",
    "    y = np.random.uniform(size=100)\n",
    "    figure_no+=1\n",
    "    simple_scatter(x,y,figure_no)\n",
    "    figure_no+=1\n",
    "    label = np.random.randint(2,size=100)\n",
    "    scatter_with_color(x,y,label,figure_no)\n",
    "    plt.show()"
   ]
  },
  {
   "cell_type": "code",
   "execution_count": 102,
   "metadata": {},
   "outputs": [
    {
     "data": {
      "image/png": "[encoded data removed]",
      "text/plain": [
       "<Figure size 432x288 with 1 Axes>"
      ]
     },
     "metadata": {
      "needs_background": "light"
     },
     "output_type": "display_data"
    },
    {
     "data": {
      "image/png": "[encoded data removed]",
      "text/plain": [
       "<Figure size 432x288 with 2 Axes>"
      ]
     },
     "metadata": {
      "needs_background": "light"
     },
     "output_type": "display_data"
    }
   ],
   "source": [
    "#Recipe_2b.py\n",
    "import numpy as np\n",
    "import matplotlib.pyplot as plt\n",
    "\n",
    "def x_y_axis_labeling(x,y,x_labels,y_labels,figure_no):\n",
    "    plt.figure(figure_no)\n",
    "    plt.plot(x,y,'+r')\n",
    "    plt.margins(0.2)\n",
    "    plt.xticks(x,x_labels,rotation='vertical')\n",
    "    plt.yticks(y,y_labels,)\n",
    "    \n",
    "def plot_heat_map(x,figure_no):\n",
    "    plt.figure(figure_no)\n",
    "    plt.pcolor(x)\n",
    "    plt.colorbar()\n",
    "    \n",
    "if __name__ == \"__main__\":\n",
    "    plt.close('all')\n",
    "    x = np.array(range(1,6))\n",
    "    y = np.array(range(100,600,100))\n",
    "    x_label = ['element 1','element 2','element 3','element 4','element 5']\n",
    "    y_label = ['weight1','weight2','weight3','weight4','weight5']\n",
    "    x_y_axis_labeling(x,y,x_label,y_label,1)\n",
    "    x = np.random.normal(loc=0.5,scale=0.2,size=(10,10))\n",
    "    plot_heat_map(x,2)\n",
    "    plt.show()"
   ]
  },
  {
   "cell_type": "code",
   "execution_count": 106,
   "metadata": {},
   "outputs": [
    {
     "name": "stdout",
     "output_type": "stream",
     "text": [
      "(150, 4)\n",
      "(150,)\n",
      "['sepal length (cm)', 'sepal width (cm)', 'petal length (cm)', 'petal width (cm)']\n",
      "['setosa' 'versicolor' 'virginica']\n",
      "(506, 13)\n",
      "(506,)\n",
      "['CRIM' 'ZN' 'INDUS' 'CHAS' 'NOX' 'RM' 'AGE' 'DIS' 'RAD' 'TAX' 'PTRATIO'\n",
      " 'B' 'LSTAT']\n",
      "(50, 5)\n",
      "(50,)\n",
      "[-0.410697    2.23120793 -0.86729786 -2.08525515  1.31725677]\n",
      "1\n"
     ]
    },
    {
     "data": {
      "image/png": "[encoded data removed]",
      "text/plain": [
       "<Figure size 432x288 with 1 Axes>"
      ]
     },
     "metadata": {
      "needs_background": "light"
     },
     "output_type": "display_data"
    },
    {
     "data": {
      "image/png": "[encoded data removed]",
      "text/plain": [
       "<Figure size 432x288 with 1 Axes>"
      ]
     },
     "metadata": {
      "needs_background": "light"
     },
     "output_type": "display_data"
    }
   ],
   "source": [
    "#Recipe_3a.py\n",
    "from sklearn.datasets import load_iris,load_boston,make_classification,make_circles, make_moons\n",
    "# Iris dataset\n",
    "data = load_iris()\n",
    "x = data['data']\n",
    "y = data['target']\n",
    "y_labels = data['target_names']\n",
    "x_labels = data['feature_names']\n",
    "\n",
    "print(x.shape)\n",
    "print(y.shape)\n",
    "print(x_labels)\n",
    "print(y_labels)\n",
    "\n",
    "# Boston dataset\n",
    "data = load_boston()\n",
    "x = data['data']\n",
    "y = data['target']\n",
    "x_labels = data['feature_names']\n",
    "\n",
    "\n",
    "print(x.shape)\n",
    "print(y.shape)\n",
    "print(x_labels)\n",
    "# make some classification dataset\n",
    "x,y = make_classification(n_samples=50,n_features=5, n_classes=2)\n",
    "\n",
    "\n",
    "print(x.shape)\n",
    "print(y.shape)\n",
    "print( x[1,:])\n",
    "print( y[1])\n",
    "# Some non linear dataset\n",
    "x,y = make_circles()\n",
    "\n",
    "import numpy as np\n",
    "import matplotlib.pyplot as plt\n",
    "\n",
    "plt.close('all')\n",
    "plt.figure(1)\n",
    "plt.scatter(x[:,0],x[:,1],c=y)\n",
    "x,y = make_moons()\n",
    "\n",
    "import numpy as np\n",
    "import matplotlib.pyplot as plt\n",
    "\n",
    "plt.figure(2)\n",
    "plt.scatter(x[:,0],x[:,1],c=y)\n",
    "plt.show()"
   ]
  },
  {
   "cell_type": "code",
   "execution_count": 109,
   "metadata": {},
   "outputs": [
    {
     "name": "stdout",
     "output_type": "stream",
     "text": [
      "Original x variable shape (2, 2)\n",
      "[[1 2]\n",
      " [2 4]]\n",
      "Transformed x variables (2, 6)\n",
      "[[ 1.  1.  2.  1.  2.  4.]\n",
      " [ 1.  2.  4.  4.  8. 16.]]\n"
     ]
    },
    {
     "name": "stderr",
     "output_type": "stream",
     "text": [
      "/opt/conda/lib/python3.7/site-packages/sklearn/tree/tree.py:890: RuntimeWarning: divide by zero encountered in log\n",
      "  return np.log(proba)\n"
     ]
    }
   ],
   "source": [
    "#Recipe_3b.py\n",
    "import numpy as np\n",
    "from sklearn.preprocessing import PolynomialFeatures\n",
    "\n",
    "# Data Preprocessing routines\n",
    "x = np.asmatrix([[1,2],[2,4]])\n",
    "poly = PolynomialFeatures(degree = 2)\n",
    "poly.fit(x)\n",
    "x_poly = poly.transform(x)\n",
    "\n",
    "print(\"Original x variable shape\",x.shape)\n",
    "print(x)\n",
    "print(\"Transformed x variables\",x_poly.shape)\n",
    "print(x_poly)\n",
    "\n",
    "#alternatively\n",
    "x_poly = poly.fit_transform(x)\n",
    "\n",
    "from sklearn.tree import DecisionTreeClassifier\n",
    "from sklearn.datasets import load_iris\n",
    "\n",
    "data = load_iris()\n",
    "x = data['data']\n",
    "y = data['target']\n",
    "estimator = DecisionTreeClassifier()\n",
    "estimator.fit(x,y)\n",
    "predicted_y = estimator.predict(x)\n",
    "predicted_y_prob = estimator.predict_proba(x)\n",
    "predicted_y_lprob = estimator.predict_log_proba(x)\n",
    "\n",
    "# from sklearn.pipeline import Pipeline\n",
    "\n",
    "# poly = PolynomialFeatures(n=3)\n",
    "# tree_estimator = DecisionTreeClassifier()\n",
    "# steps = [('poly',poly),('tree',tree_estimator)]\n",
    "# estimator = Pipeline(steps=steps)\n",
    "# estimator.fit(x,y)\n",
    "# predicted_y = estimator.predict(x)"
   ]
  },
  {
   "cell_type": "code",
   "execution_count": 146,
   "metadata": {},
   "outputs": [
    {
     "name": "stdout",
     "output_type": "stream",
     "text": [
      "25th Percentile= 13.00\n",
      "50th Percentile= 18.50\n",
      "75th Percentile= 25.25\n",
      "[1946 1947 1948 1949 1950 1951 1952 1953 1954 1955 1956 1957 1958 1959\n",
      " 1960 1961 1962 1963 1964 1965 1966 1967 1968 1969 1970 1971 1972 1973\n",
      " 1974 1975 1976 1977 1978 1979 1980 1981 1982 1983 1984 1985 1986 1987\n",
      " 1988 1989 1990 1991 1992 1993 1994 1995 1996 1997] [41 23 16 28 20 11 19 14 39 32 -- 14 -- 16 6 25 24 18 17 38 31 27 26 17 21\n",
      " 20 17 23 16 13 13 21 11 13 11 8 8 14 9 7 5 5 -- 34 18 20 27 30 22 25 19\n",
      " 26]\n"
     ]
    },
    {
     "data": {
      "image/png": "[encoded data removed]",
      "text/plain": [
       "<Figure size 432x288 with 1 Axes>"
      ]
     },
     "metadata": {
      "needs_background": "light"
     },
     "output_type": "display_data"
    },
    {
     "data": {
      "image/png": "[encoded data removed]",
      "text/plain": [
       "<Figure size 432x288 with 1 Axes>"
      ]
     },
     "metadata": {
      "needs_background": "light"
     },
     "output_type": "display_data"
    }
   ],
   "source": [
    "# Load libraries\n",
    "import numpy as np\n",
    "import matplotlib.pyplot as plt\n",
    "\n",
    "fill_data = lambda x : int(x.strip() or 0)\n",
    "data = np.genfromtxt('./data/president.csv',dtype=(int,int),converters={1:fill_data},delimiter=\",\")\n",
    "# print(data)\n",
    "x = data[:,0]\n",
    "y = data[:,1]\n",
    "\n",
    "# 2.Plot the data to look for any trends or values\n",
    "plt.close('all')\n",
    "plt.figure(1)\n",
    "plt.title(\"All data\")\n",
    "plt.plot(x,y,'ro')\n",
    "plt.xlabel('year')\n",
    "plt.ylabel('No. Presedential Request')\n",
    "\n",
    "# Let’s calculate the percentile values and plot them as references in the plot that has been\n",
    "# generated:\n",
    "#3.Calculate percentile values (25th, 50th,75th) for the data to understand data distribution\n",
    "perc_25 = np.percentile(y,25)\n",
    "perc_50 = np.percentile(y,50)\n",
    "perc_75 = np.percentile(y,75)\n",
    "\n",
    "print(\"25th Percentile= %0.2f\"%(perc_25))\n",
    "print(\"50th Percentile= %0.2f\"%(perc_50))\n",
    "print(\"75th Percentile= %0.2f\"%(perc_75))\n",
    "\n",
    "#4.Plot these percentile values as reference in the plot we generated in the previous step.\n",
    "# Draw horizontal lines at 25,50 and 75th percentile\n",
    "plt.axhline(perc_25,label='25th perc',c='r')\n",
    "plt.axhline(perc_50,label='50th perc',c='g')\n",
    "plt.axhline(perc_75,label='75th perc',c='m')\n",
    "plt.legend(loc='best')\n",
    "# Finally, let’s inspect the data visually for outliers and then remove them using the mask\n",
    "# function. Let’s plot the data again without the outliers:\n",
    "\n",
    "#5.Look for outliers if any in the data by visual inspection.\n",
    "# Remove outliers using mask function\n",
    "# Remove outliers 0 and 54\n",
    "y_masked = np.ma.masked_where(y==0,y)\n",
    "# Remove point 54\n",
    "y_masked = np.ma.masked_where(y_masked==54,y_masked)\n",
    "\n",
    "print(x,y_masked)\n",
    "#6 Plot the data again.\n",
    "plt.figure(2)\n",
    "plt.title(\"Masked data\")\n",
    "plt.plot(x,y_masked,'go')\n",
    "plt.xlabel('year')\n",
    "plt.ylabel('No. Presedential Request')\n",
    "plt.ylim(0,60)\n",
    "# Draw horizontal lines at 25,50 and 75th percentile\n",
    "plt.axhline(perc_25,label='25th perc',c='r')\n",
    "plt.axhline(perc_50,label='50th perc',c='g')\n",
    "plt.axhline(perc_75,label='75th perc',c='m')\n",
    "plt.legend(loc='best')\n",
    "plt.show()"
   ]
  },
  {
   "cell_type": "code",
   "execution_count": 158,
   "metadata": {},
   "outputs": [
    {
     "name": "stdout",
     "output_type": "stream",
     "text": [
      "dict_keys([41, 23, 16, 28, 20, 11, 19, 14, 39, 32, 0, 6, 25, 24, 18, 17, 38, 31, 27, 26, 21, 13, 8, 9, 7, 5, 54, 34, 30, 22]) \n",
      " dict_values([1, 2, 3, 1, 3, 3, 2, 3, 1, 1, 2, 1, 2, 1, 2, 3, 1, 1, 2, 2, 2, 3, 2, 1, 1, 2, 1, 1, 1, 1])\n",
      "<class 'numpy.ndarray'> <class 'numpy.ndarray'>\n"
     ]
    },
    {
     "ename": "TypeError",
     "evalue": "iteration over a 0-d array",
     "output_type": "error",
     "traceback": [
      "\u001b[0;31m---------------------------------------------------------------------------\u001b[0m",
      "\u001b[0;31mTypeError\u001b[0m                                 Traceback (most recent call last)",
      "\u001b[0;32m<ipython-input-158-be8989a78f55>\u001b[0m in \u001b[0;36m<module>\u001b[0;34m\u001b[0m\n\u001b[1;32m     60\u001b[0m \u001b[0;34m\u001b[0m\u001b[0m\n\u001b[1;32m     61\u001b[0m \u001b[0;31m# Set the min and max limits for x axis\u001b[0m\u001b[0;34m\u001b[0m\u001b[0;34m\u001b[0m\u001b[0;34m\u001b[0m\u001b[0m\n\u001b[0;32m---> 62\u001b[0;31m \u001b[0mplt\u001b[0m\u001b[0;34m.\u001b[0m\u001b[0mxlim\u001b[0m\u001b[0;34m(\u001b[0m\u001b[0mmin\u001b[0m\u001b[0;34m(\u001b[0m\u001b[0my_\u001b[0m\u001b[0;34m)\u001b[0m\u001b[0;34m-\u001b[0m\u001b[0;36m1\u001b[0m\u001b[0;34m,\u001b[0m\u001b[0mmax\u001b[0m\u001b[0;34m(\u001b[0m\u001b[0my_\u001b[0m\u001b[0;34m)\u001b[0m\u001b[0;34m+\u001b[0m\u001b[0;36m1\u001b[0m\u001b[0;34m)\u001b[0m\u001b[0;34m\u001b[0m\u001b[0;34m\u001b[0m\u001b[0m\n\u001b[0m\u001b[1;32m     63\u001b[0m \u001b[0mplt\u001b[0m\u001b[0;34m.\u001b[0m\u001b[0msubplot\u001b[0m\u001b[0;34m(\u001b[0m\u001b[0;36m312\u001b[0m\u001b[0;34m)\u001b[0m\u001b[0;34m\u001b[0m\u001b[0;34m\u001b[0m\u001b[0m\n\u001b[1;32m     64\u001b[0m \u001b[0mplt\u001b[0m\u001b[0;34m.\u001b[0m\u001b[0mtitle\u001b[0m\u001b[0;34m(\u001b[0m\u001b[0;34m\"Simple dot plot\"\u001b[0m\u001b[0;34m)\u001b[0m\u001b[0;34m\u001b[0m\u001b[0;34m\u001b[0m\u001b[0m\n",
      "\u001b[0;31mTypeError\u001b[0m: iteration over a 0-d array"
     ]
    },
    {
     "data": {
      "image/png": "[encoded data removed]",
      "text/plain": [
       "<Figure size 432x288 with 1 Axes>"
      ]
     },
     "metadata": {
      "needs_background": "light"
     },
     "output_type": "display_data"
    }
   ],
   "source": [
    "# Load libraries\n",
    "import numpy as np\n",
    "import matplotlib.pyplot as plt\n",
    "from collections import Counter\n",
    "from collections import OrderedDict\n",
    "# from matplotlib.pylab import frange\n",
    "\n",
    "# 1.Load the data and handle missing values.\n",
    "fill_data = lambda x : int(x.strip() or 0)\n",
    "data = np.genfromtxt('./data/president.csv',dtype=(int,int),converters={1:fill_data},delimiter=\",\")\n",
    "x = data[:,0]\n",
    "y = data[:,1]\n",
    "\n",
    "# 2.Group data using frequency (count of individual data points).\n",
    "# Given a set of points, Counter() returns a dictionary, where key is a\n",
    "# data point,\n",
    "# and value is the frequency of data point in the dataset.\n",
    "x_freq = Counter(y)\n",
    "# print(x_freq)\n",
    "x_ = np.array(x_freq.keys())\n",
    "y_ = np.array(x_freq.values())\n",
    "\n",
    "print(x_,\"\\n\",y_)\n",
    "\n",
    "print(type(x_),type(y_))\n",
    "# We will proceed to group the data by the year range and plot it:\n",
    "# 3.Group data by range of years\n",
    "x_group = OrderedDict()\n",
    "group= 5\n",
    "group_count=1\n",
    "keys = []\n",
    "values = []\n",
    "\n",
    "for i,xx in enumerate(x):\n",
    "    # Individual data point is appended to list keys\n",
    "    keys.append(xx)\n",
    "    values.append(y[i])\n",
    "    # If we have processed five data points (i.e. five years)\n",
    "    if group_count == group:\n",
    "        # Convert the list of keys to a tuple\n",
    "        # use the new tuple as the ke to x_group dictionary\n",
    "        x_group[tuple(keys)] = values\n",
    "        keys= []\n",
    "        values =[]\n",
    "        group_count = 1\n",
    "    group_count+=1\n",
    "    \n",
    "# Accomodate the last batch of keys and values\n",
    "x_group[tuple(keys)] = values\n",
    "# print(x_group)\n",
    "\n",
    "# 4.Plot the grouped data as dot plot.\n",
    "plt.subplot(311)\n",
    "plt.title(\"Dot Plot by Frequency\")\n",
    "\n",
    "# Plot the frequency\n",
    "# plt.plot(y_,x_,'ro')\n",
    "# plt.xlabel('Count')\n",
    "# plt.ylabel('# Presedential Request')\n",
    "\n",
    "# Set the min and max limits for x axis\n",
    "plt.xlim(min(y_)-1,max(y_)+1)\n",
    "plt.subplot(312)\n",
    "plt.title(\"Simple dot plot\")\n",
    "plt.xlabel('# Presendtial Request')\n",
    "plt.ylabel('Frequency')\n",
    "# Finally, we will prepare the data for a simple dot plot and proceed with plotting it:\n",
    "# Prepare the data for simple dot plot\n",
    "# For every (item, frequency) pair create a\n",
    "# new x and y\n",
    "# where x is a list, created using using np.repeat\n",
    "# function, where the item is repeated frequency times.\n",
    "# y is a list between 0.1 and frequency/10, incremented\n",
    "# by 0.1\n",
    "for key,value in x_freq.items():\n",
    "    x__ = np.repeat(key,value)\n",
    "    y__ = frange(0.1,(value/10.0),0.1)\n",
    "    try:\n",
    "        plt.plot(x__,y__,'go')\n",
    "    except ValueError:\n",
    "        print(x__.shape, y__.shape)\n",
    "    # Set the min and max limits of x and y axis\n",
    "    plt.ylim(0.0,0.4)\n",
    "    plt.xlim(xmin=-1)\n",
    "plt.xticks(x_freq.keys())\n",
    "\n",
    "plt.subplot(313)\n",
    "\n",
    "x_vals =[]\n",
    "x_labels =[]\n",
    "y_vals =[]\n",
    "x_tick = 1\n",
    "for k,v in x_group.items():\n",
    "    for i in range(len(k)):\n",
    "        x_vals.append(x_tick)\n",
    "        x_label = '-'.join([str(kk) if not i else str(kk)[-2:] for i,kk in enumerate(k)])\n",
    "        x_labels.append(x_label)\n",
    "    y_vals.extend(list(v))\n",
    "    x_tick+=1\n",
    "plt.title(\"Dot Plot by Year Grouping\")\n",
    "plt.xlabel('Year Group')\n",
    "plt.ylabel('No Presedential Request')\n",
    "try:\n",
    "    plt.plot(x_vals,y_vals,'ro')\n",
    "except ValueError:\n",
    "    print(len(x_vals),len(y_vals))\n",
    "    \n",
    "plt.xticks(x_vals,x_labels,rotation=-35)\n",
    "plt.show()"
   ]
  },
  {
   "cell_type": "code",
   "execution_count": 155,
   "metadata": {},
   "outputs": [
    {
     "name": "stdout",
     "output_type": "stream",
     "text": [
      "[ 1  2  3  4  5  6  7  8  9 10] [ 7  9 11 13 15 17 19 21 23 25]\n",
      "<class 'numpy.ndarray'> <class 'numpy.ndarray'>\n"
     ]
    },
    {
     "data": {
      "image/png": "[encoded data removed]",
      "text/plain": [
       "<Figure size 432x288 with 1 Axes>"
      ]
     },
     "metadata": {
      "needs_background": "light"
     },
     "output_type": "display_data"
    }
   ],
   "source": [
    "import numpy as np \n",
    "from matplotlib import pyplot as plt \n",
    " \n",
    "x = np.arange(1,11) \n",
    "y =  2  * x +  5\n",
    "\n",
    "print(x,y)\n",
    "print(type(x),type(y))\n",
    "plt.title(\"Matplotlib demo\") \n",
    "plt.xlabel(\"x axis caption\") \n",
    "plt.ylabel(\"y axis caption\") \n",
    "plt.plot(x,y)\n",
    "plt.show()"
   ]
  },
  {
   "cell_type": "code",
   "execution_count": 165,
   "metadata": {},
   "outputs": [
    {
     "name": "stdout",
     "output_type": "stream",
     "text": [
      "{'data': array([[5.1, 3.5, 1.4, 0.2],\n",
      "       [4.9, 3. , 1.4, 0.2],\n",
      "       [4.7, 3.2, 1.3, 0.2],\n",
      "       [4.6, 3.1, 1.5, 0.2],\n",
      "       [5. , 3.6, 1.4, 0.2],\n",
      "       [5.4, 3.9, 1.7, 0.4],\n",
      "       [4.6, 3.4, 1.4, 0.3],\n",
      "       [5. , 3.4, 1.5, 0.2],\n",
      "       [4.4, 2.9, 1.4, 0.2],\n",
      "       [4.9, 3.1, 1.5, 0.1],\n",
      "       [5.4, 3.7, 1.5, 0.2],\n",
      "       [4.8, 3.4, 1.6, 0.2],\n",
      "       [4.8, 3. , 1.4, 0.1],\n",
      "       [4.3, 3. , 1.1, 0.1],\n",
      "       [5.8, 4. , 1.2, 0.2],\n",
      "       [5.7, 4.4, 1.5, 0.4],\n",
      "       [5.4, 3.9, 1.3, 0.4],\n",
      "       [5.1, 3.5, 1.4, 0.3],\n",
      "       [5.7, 3.8, 1.7, 0.3],\n",
      "       [5.1, 3.8, 1.5, 0.3],\n",
      "       [5.4, 3.4, 1.7, 0.2],\n",
      "       [5.1, 3.7, 1.5, 0.4],\n",
      "       [4.6, 3.6, 1. , 0.2],\n",
      "       [5.1, 3.3, 1.7, 0.5],\n",
      "       [4.8, 3.4, 1.9, 0.2],\n",
      "       [5. , 3. , 1.6, 0.2],\n",
      "       [5. , 3.4, 1.6, 0.4],\n",
      "       [5.2, 3.5, 1.5, 0.2],\n",
      "       [5.2, 3.4, 1.4, 0.2],\n",
      "       [4.7, 3.2, 1.6, 0.2],\n",
      "       [4.8, 3.1, 1.6, 0.2],\n",
      "       [5.4, 3.4, 1.5, 0.4],\n",
      "       [5.2, 4.1, 1.5, 0.1],\n",
      "       [5.5, 4.2, 1.4, 0.2],\n",
      "       [4.9, 3.1, 1.5, 0.2],\n",
      "       [5. , 3.2, 1.2, 0.2],\n",
      "       [5.5, 3.5, 1.3, 0.2],\n",
      "       [4.9, 3.6, 1.4, 0.1],\n",
      "       [4.4, 3. , 1.3, 0.2],\n",
      "       [5.1, 3.4, 1.5, 0.2],\n",
      "       [5. , 3.5, 1.3, 0.3],\n",
      "       [4.5, 2.3, 1.3, 0.3],\n",
      "       [4.4, 3.2, 1.3, 0.2],\n",
      "       [5. , 3.5, 1.6, 0.6],\n",
      "       [5.1, 3.8, 1.9, 0.4],\n",
      "       [4.8, 3. , 1.4, 0.3],\n",
      "       [5.1, 3.8, 1.6, 0.2],\n",
      "       [4.6, 3.2, 1.4, 0.2],\n",
      "       [5.3, 3.7, 1.5, 0.2],\n",
      "       [5. , 3.3, 1.4, 0.2],\n",
      "       [7. , 3.2, 4.7, 1.4],\n",
      "       [6.4, 3.2, 4.5, 1.5],\n",
      "       [6.9, 3.1, 4.9, 1.5],\n",
      "       [5.5, 2.3, 4. , 1.3],\n",
      "       [6.5, 2.8, 4.6, 1.5],\n",
      "       [5.7, 2.8, 4.5, 1.3],\n",
      "       [6.3, 3.3, 4.7, 1.6],\n",
      "       [4.9, 2.4, 3.3, 1. ],\n",
      "       [6.6, 2.9, 4.6, 1.3],\n",
      "       [5.2, 2.7, 3.9, 1.4],\n",
      "       [5. , 2. , 3.5, 1. ],\n",
      "       [5.9, 3. , 4.2, 1.5],\n",
      "       [6. , 2.2, 4. , 1. ],\n",
      "       [6.1, 2.9, 4.7, 1.4],\n",
      "       [5.6, 2.9, 3.6, 1.3],\n",
      "       [6.7, 3.1, 4.4, 1.4],\n",
      "       [5.6, 3. , 4.5, 1.5],\n",
      "       [5.8, 2.7, 4.1, 1. ],\n",
      "       [6.2, 2.2, 4.5, 1.5],\n",
      "       [5.6, 2.5, 3.9, 1.1],\n",
      "       [5.9, 3.2, 4.8, 1.8],\n",
      "       [6.1, 2.8, 4. , 1.3],\n",
      "       [6.3, 2.5, 4.9, 1.5],\n",
      "       [6.1, 2.8, 4.7, 1.2],\n",
      "       [6.4, 2.9, 4.3, 1.3],\n",
      "       [6.6, 3. , 4.4, 1.4],\n",
      "       [6.8, 2.8, 4.8, 1.4],\n",
      "       [6.7, 3. , 5. , 1.7],\n",
      "       [6. , 2.9, 4.5, 1.5],\n",
      "       [5.7, 2.6, 3.5, 1. ],\n",
      "       [5.5, 2.4, 3.8, 1.1],\n",
      "       [5.5, 2.4, 3.7, 1. ],\n",
      "       [5.8, 2.7, 3.9, 1.2],\n",
      "       [6. , 2.7, 5.1, 1.6],\n",
      "       [5.4, 3. , 4.5, 1.5],\n",
      "       [6. , 3.4, 4.5, 1.6],\n",
      "       [6.7, 3.1, 4.7, 1.5],\n",
      "       [6.3, 2.3, 4.4, 1.3],\n",
      "       [5.6, 3. , 4.1, 1.3],\n",
      "       [5.5, 2.5, 4. , 1.3],\n",
      "       [5.5, 2.6, 4.4, 1.2],\n",
      "       [6.1, 3. , 4.6, 1.4],\n",
      "       [5.8, 2.6, 4. , 1.2],\n",
      "       [5. , 2.3, 3.3, 1. ],\n",
      "       [5.6, 2.7, 4.2, 1.3],\n",
      "       [5.7, 3. , 4.2, 1.2],\n",
      "       [5.7, 2.9, 4.2, 1.3],\n",
      "       [6.2, 2.9, 4.3, 1.3],\n",
      "       [5.1, 2.5, 3. , 1.1],\n",
      "       [5.7, 2.8, 4.1, 1.3],\n",
      "       [6.3, 3.3, 6. , 2.5],\n",
      "       [5.8, 2.7, 5.1, 1.9],\n",
      "       [7.1, 3. , 5.9, 2.1],\n",
      "       [6.3, 2.9, 5.6, 1.8],\n",
      "       [6.5, 3. , 5.8, 2.2],\n",
      "       [7.6, 3. , 6.6, 2.1],\n",
      "       [4.9, 2.5, 4.5, 1.7],\n",
      "       [7.3, 2.9, 6.3, 1.8],\n",
      "       [6.7, 2.5, 5.8, 1.8],\n",
      "       [7.2, 3.6, 6.1, 2.5],\n",
      "       [6.5, 3.2, 5.1, 2. ],\n",
      "       [6.4, 2.7, 5.3, 1.9],\n",
      "       [6.8, 3. , 5.5, 2.1],\n",
      "       [5.7, 2.5, 5. , 2. ],\n",
      "       [5.8, 2.8, 5.1, 2.4],\n",
      "       [6.4, 3.2, 5.3, 2.3],\n",
      "       [6.5, 3. , 5.5, 1.8],\n",
      "       [7.7, 3.8, 6.7, 2.2],\n",
      "       [7.7, 2.6, 6.9, 2.3],\n",
      "       [6. , 2.2, 5. , 1.5],\n",
      "       [6.9, 3.2, 5.7, 2.3],\n",
      "       [5.6, 2.8, 4.9, 2. ],\n",
      "       [7.7, 2.8, 6.7, 2. ],\n",
      "       [6.3, 2.7, 4.9, 1.8],\n",
      "       [6.7, 3.3, 5.7, 2.1],\n",
      "       [7.2, 3.2, 6. , 1.8],\n",
      "       [6.2, 2.8, 4.8, 1.8],\n",
      "       [6.1, 3. , 4.9, 1.8],\n",
      "       [6.4, 2.8, 5.6, 2.1],\n",
      "       [7.2, 3. , 5.8, 1.6],\n",
      "       [7.4, 2.8, 6.1, 1.9],\n",
      "       [7.9, 3.8, 6.4, 2. ],\n",
      "       [6.4, 2.8, 5.6, 2.2],\n",
      "       [6.3, 2.8, 5.1, 1.5],\n",
      "       [6.1, 2.6, 5.6, 1.4],\n",
      "       [7.7, 3. , 6.1, 2.3],\n",
      "       [6.3, 3.4, 5.6, 2.4],\n",
      "       [6.4, 3.1, 5.5, 1.8],\n",
      "       [6. , 3. , 4.8, 1.8],\n",
      "       [6.9, 3.1, 5.4, 2.1],\n",
      "       [6.7, 3.1, 5.6, 2.4],\n",
      "       [6.9, 3.1, 5.1, 2.3],\n",
      "       [5.8, 2.7, 5.1, 1.9],\n",
      "       [6.8, 3.2, 5.9, 2.3],\n",
      "       [6.7, 3.3, 5.7, 2.5],\n",
      "       [6.7, 3. , 5.2, 2.3],\n",
      "       [6.3, 2.5, 5. , 1.9],\n",
      "       [6.5, 3. , 5.2, 2. ],\n",
      "       [6.2, 3.4, 5.4, 2.3],\n",
      "       [5.9, 3. , 5.1, 1.8]]), 'target': array([0, 0, 0, 0, 0, 0, 0, 0, 0, 0, 0, 0, 0, 0, 0, 0, 0, 0, 0, 0, 0, 0,\n",
      "       0, 0, 0, 0, 0, 0, 0, 0, 0, 0, 0, 0, 0, 0, 0, 0, 0, 0, 0, 0, 0, 0,\n",
      "       0, 0, 0, 0, 0, 0, 1, 1, 1, 1, 1, 1, 1, 1, 1, 1, 1, 1, 1, 1, 1, 1,\n",
      "       1, 1, 1, 1, 1, 1, 1, 1, 1, 1, 1, 1, 1, 1, 1, 1, 1, 1, 1, 1, 1, 1,\n",
      "       1, 1, 1, 1, 1, 1, 1, 1, 1, 1, 1, 1, 2, 2, 2, 2, 2, 2, 2, 2, 2, 2,\n",
      "       2, 2, 2, 2, 2, 2, 2, 2, 2, 2, 2, 2, 2, 2, 2, 2, 2, 2, 2, 2, 2, 2,\n",
      "       2, 2, 2, 2, 2, 2, 2, 2, 2, 2, 2, 2, 2, 2, 2, 2, 2, 2]), 'target_names': array(['setosa', 'versicolor', 'virginica'], dtype='<U10'), 'DESCR': '.. _iris_dataset:\\n\\nIris plants dataset\\n--------------------\\n\\n**Data Set Characteristics:**\\n\\n    :Number of Instances: 150 (50 in each of three classes)\\n    :Number of Attributes: 4 numeric, predictive attributes and the class\\n    :Attribute Information:\\n        - sepal length in cm\\n        - sepal width in cm\\n        - petal length in cm\\n        - petal width in cm\\n        - class:\\n                - Iris-Setosa\\n                - Iris-Versicolour\\n                - Iris-Virginica\\n                \\n    :Summary Statistics:\\n\\n    ============== ==== ==== ======= ===== ====================\\n                    Min  Max   Mean    SD   Class Correlation\\n    ============== ==== ==== ======= ===== ====================\\n    sepal length:   4.3  7.9   5.84   0.83    0.7826\\n    sepal width:    2.0  4.4   3.05   0.43   -0.4194\\n    petal length:   1.0  6.9   3.76   1.76    0.9490  (high!)\\n    petal width:    0.1  2.5   1.20   0.76    0.9565  (high!)\\n    ============== ==== ==== ======= ===== ====================\\n\\n    :Missing Attribute Values: None\\n    :Class Distribution: 33.3% for each of 3 classes.\\n    :Creator: R.A. Fisher\\n    :Donor: Michael Marshall (MARSHALL%PLU@io.arc.nasa.gov)\\n    :Date: July, 1988\\n\\nThe famous Iris database, first used by Sir R.A. Fisher. The dataset is taken\\nfrom Fisher\\'s paper. Note that it\\'s the same as in R, but not as in the UCI\\nMachine Learning Repository, which has two wrong data points.\\n\\nThis is perhaps the best known database to be found in the\\npattern recognition literature.  Fisher\\'s paper is a classic in the field and\\nis referenced frequently to this day.  (See Duda & Hart, for example.)  The\\ndata set contains 3 classes of 50 instances each, where each class refers to a\\ntype of iris plant.  One class is linearly separable from the other 2; the\\nlatter are NOT linearly separable from each other.\\n\\n.. topic:: References\\n\\n   - Fisher, R.A. \"The use of multiple measurements in taxonomic problems\"\\n     Annual Eugenics, 7, Part II, 179-188 (1936); also in \"Contributions to\\n     Mathematical Statistics\" (John Wiley, NY, 1950).\\n   - Duda, R.O., & Hart, P.E. (1973) Pattern Classification and Scene Analysis.\\n     (Q327.D83) John Wiley & Sons.  ISBN 0-471-22361-1.  See page 218.\\n   - Dasarathy, B.V. (1980) \"Nosing Around the Neighborhood: A New System\\n     Structure and Classification Rule for Recognition in Partially Exposed\\n     Environments\".  IEEE Transactions on Pattern Analysis and Machine\\n     Intelligence, Vol. PAMI-2, No. 1, 67-71.\\n   - Gates, G.W. (1972) \"The Reduced Nearest Neighbor Rule\".  IEEE Transactions\\n     on Information Theory, May 1972, 431-433.\\n   - See also: 1988 MLC Proceedings, 54-64.  Cheeseman et al\"s AUTOCLASS II\\n     conceptual clustering system finds 3 classes in the data.\\n   - Many, many more ...', 'feature_names': ['sepal length (cm)', 'sepal width (cm)', 'petal length (cm)', 'petal width (cm)'], 'filename': '/opt/conda/lib/python3.7/site-packages/sklearn/datasets/data/iris.csv'}\n"
     ]
    },
    {
     "data": {
      "image/png": "[encoded data removed]",
      "text/plain": [
       "<Figure size 432x288 with 1 Axes>"
      ]
     },
     "metadata": {
      "needs_background": "light"
     },
     "output_type": "display_data"
    },
    {
     "data": {
      "image/png": "[encoded data removed]",
      "text/plain": [
       "<Figure size 432x288 with 1 Axes>"
      ]
     },
     "metadata": {
      "needs_background": "light"
     },
     "output_type": "display_data"
    },
    {
     "data": {
      "image/png": "[encoded data removed]",
      "text/plain": [
       "<Figure size 432x288 with 1 Axes>"
      ]
     },
     "metadata": {
      "needs_background": "light"
     },
     "output_type": "display_data"
    },
    {
     "data": {
      "image/png": "[encoded data removed]",
      "text/plain": [
       "<Figure size 432x288 with 1 Axes>"
      ]
     },
     "metadata": {
      "needs_background": "light"
     },
     "output_type": "display_data"
    },
    {
     "data": {
      "image/png": "[encoded data removed]",
      "text/plain": [
       "<Figure size 432x288 with 1 Axes>"
      ]
     },
     "metadata": {
      "needs_background": "light"
     },
     "output_type": "display_data"
    },
    {
     "data": {
      "image/png": "[encoded data removed]",
      "text/plain": [
       "<Figure size 432x288 with 1 Axes>"
      ]
     },
     "metadata": {
      "needs_background": "light"
     },
     "output_type": "display_data"
    }
   ],
   "source": [
    "# Load Librarires\n",
    "from sklearn.datasets import load_iris\n",
    "import numpy as np\n",
    "import matplotlib.pyplot as plt\n",
    "import itertools\n",
    "# 1. Load Iris dataset\n",
    "data = load_iris()\n",
    "print(data)\n",
    "x = data['data']\n",
    "y = data['target']\n",
    "col_names = data['feature_names']\n",
    "# We will proceed with demonstrating with a scatter plot:\n",
    "# 2.Perform a simple scatter plot.\n",
    "# Plot 6 graphs, combinations of our columns, sepal length, sepal width,\n",
    "# petal length and petal width.\n",
    "plt.close('all')\n",
    "plt.figure(1)\n",
    "# We want a plot with\n",
    "# 3 rows and 2 columns, 3 and 2 in\n",
    "# below variable signifies that.\n",
    "subplot_start = 321\n",
    "col_numbers = range(0,4)\n",
    "# Need it for labeling the graph\n",
    "col_pairs = itertools.combinations(col_numbers,2)\n",
    "plt.subplots_adjust(wspace = 0.5)\n",
    "for col_pair in col_pairs:\n",
    "    plt.subplot(subplot_start)\n",
    "    plt.scatter(x[:,col_pair[0]],x[:,col_pair[1]],c=y)\n",
    "    plt.xlabel(col_names[col_pair[0]])\n",
    "    plt.ylabel(col_names[col_pair[1]])\n",
    "    subplot_start+=1\n",
    "    plt.show()"
   ]
  },
  {
   "cell_type": "code",
   "execution_count": 167,
   "metadata": {},
   "outputs": [
    {
     "data": {
      "text/plain": [
       "<Figure size 432x288 with 0 Axes>"
      ]
     },
     "metadata": {},
     "output_type": "display_data"
    },
    {
     "data": {
      "image/png": "[encoded data removed]",
      "text/plain": [
       "<Figure size 432x288 with 1 Axes>"
      ]
     },
     "metadata": {
      "needs_background": "light"
     },
     "output_type": "display_data"
    }
   ],
   "source": [
    "# Load libraries\n",
    "from sklearn.datasets import load_iris\n",
    "from sklearn.preprocessing import scale\n",
    "import numpy as np\n",
    "import matplotlib.pyplot as plt\n",
    "# 1. Load iris dataset\n",
    "data = load_iris()\n",
    "x = data['data']\n",
    "y = data['target']\n",
    "col_names = data['feature_names']\n",
    "# 2. Scale the variables, with mean value\n",
    "x = scale(x,with_std=False)\n",
    "x_ = x[1:26,]\n",
    "y_labels = range(1,26)\n",
    "# Let’s plot our heat map:\n",
    "# 3. Plot the Heat map\n",
    "plt.close('all')\n",
    "plt.figure(1)\n",
    "fig,ax = plt.subplots()\n",
    "ax.pcolor(x_,cmap=plt.cm.Greens,edgecolors='k')\n",
    "ax.set_xticks(np.arange(0,x_.shape[1])+0.5)\n",
    "ax.set_yticks(np.arange(0,x_.shape[0])+0.5)\n",
    "ax.xaxis.tick_top()\n",
    "ax.yaxis.tick_left()\n",
    "ax.set_xticklabels(col_names,minor=False,fontsize=10)\n",
    "ax.set_yticklabels(y_labels,minor=False,fontsize=10)\n",
    "plt.show()"
   ]
  },
  {
   "cell_type": "code",
   "execution_count": 169,
   "metadata": {},
   "outputs": [
    {
     "data": {
      "text/plain": [
       "<Figure size 432x288 with 0 Axes>"
      ]
     },
     "metadata": {},
     "output_type": "display_data"
    },
    {
     "data": {
      "image/png": "[encoded data removed]",
      "text/plain": [
       "<Figure size 432x288 with 3 Axes>"
      ]
     },
     "metadata": {
      "needs_background": "light"
     },
     "output_type": "display_data"
    }
   ],
   "source": [
    "x1 = x[0:50]\n",
    "x2 = x[50:99]\n",
    "x3 = x[100:149]\n",
    "x1 = scale(x1,with_std=False)\n",
    "x2 = scale(x2,with_std=False)\n",
    "x3 = scale(x3,with_std=False)\n",
    "plt.close('all')\n",
    "plt.figure(2)\n",
    "fig,(ax1, ax2, ax3) = plt.subplots(3, sharex=True, sharey=True)\n",
    "y_labels = range(1,51)\n",
    "ax1.set_xticks(np.arange(0,x.shape[1])+0.5)\n",
    "ax1.set_yticks(np.arange(0,50,10))\n",
    "ax1.xaxis.tick_bottom()\n",
    "ax1.set_xticklabels(col_names,minor=False,fontsize=2)\n",
    "ax1.pcolor(x1,cmap=plt.cm.Greens,edgecolors='k')\n",
    "ax1.set_title(data['target_names'][0])\n",
    "ax2.pcolor(x2,cmap=plt.cm.Greens,edgecolors='k')\n",
    "ax2.set_title(data['target_names'][1])\n",
    "ax3.pcolor(x3,cmap=plt.cm.Greens,edgecolors='r')\n",
    "ax3.set_title(data['target_names'][2])\n",
    "plt.show()"
   ]
  },
  {
   "cell_type": "code",
   "execution_count": 171,
   "metadata": {},
   "outputs": [
    {
     "name": "stdout",
     "output_type": "stream",
     "text": [
      "9.5 9.5\n"
     ]
    }
   ],
   "source": [
    "import numpy as np\n",
    "\n",
    "a = [8,9,10,11]\n",
    "\n",
    "print(np.median(a), np.percentile(a,50))"
   ]
  },
  {
   "cell_type": "code",
   "execution_count": 173,
   "metadata": {},
   "outputs": [
    {
     "data": {
      "image/png": "[encoded data removed]",
      "text/plain": [
       "<Figure size 432x288 with 1 Axes>"
      ]
     },
     "metadata": {
      "needs_background": "light"
     },
     "output_type": "display_data"
    }
   ],
   "source": [
    "# Load Libraries\n",
    "from sklearn.datasets import load_iris\n",
    "import matplotlib.pyplot as plt\n",
    "# Load Iris dataset\n",
    "data = load_iris()\n",
    "x = data['data']\n",
    "plt.close('all')\n",
    "# Let’s demonstrate how to create a box-and-whisker plot:\n",
    "# Plot the box and whisker\n",
    "fig = plt.figure(1)\n",
    "ax = fig.add_subplot(111)\n",
    "ax.boxplot(x)\n",
    "ax.set_xticklabels(data['feature_names'])\n",
    "plt.show()"
   ]
  },
  {
   "cell_type": "code",
   "execution_count": 174,
   "metadata": {},
   "outputs": [
    {
     "data": {
      "image/png": "[encoded data removed]",
      "text/plain": [
       "<Figure size 1296x720 with 3 Axes>"
      ]
     },
     "metadata": {
      "needs_background": "light"
     },
     "output_type": "display_data"
    }
   ],
   "source": [
    "y=data['target']\n",
    "class_labels = data['target_names']\n",
    "fig = plt.figure(2,figsize=(18,10))\n",
    "sub_plt_count = 321\n",
    "for t in range(0,3):\n",
    "    ax = fig.add_subplot(sub_plt_count)\n",
    "    y_index = np.where(y==t)[0]\n",
    "    x_ = x[y_index,:]\n",
    "    ax.boxplot(x_)\n",
    "    ax.set_title(class_labels[t])\n",
    "    ax.set_xticklabels(data['feature_names'])\n",
    "    sub_plt_count+=1\n",
    "plt.show()"
   ]
  },
  {
   "cell_type": "code",
   "execution_count": 181,
   "metadata": {},
   "outputs": [
    {
     "name": "stdout",
     "output_type": "stream",
     "text": [
      "[[5.1 3.5 1.4 0.2]\n",
      " [4.9 3.  1.4 0.2]\n",
      " [0.  0.  0.  0. ]\n",
      " [4.6 3.1 1.5 0.2]\n",
      " [5.  3.6 1.4 0.2]\n",
      " [5.4 3.9 1.7 0.4]\n",
      " [4.6 3.4 1.4 0.3]\n",
      " [5.  3.4 1.5 0.2]\n",
      " [4.4 2.9 1.4 0.2]\n",
      " [4.9 3.1 1.5 0.1]\n",
      " [5.4 3.7 1.5 0.2]\n",
      " [4.8 3.4 1.6 0.2]\n",
      " [4.8 3.  1.4 0.1]\n",
      " [4.3 3.  1.1 0.1]\n",
      " [5.8 4.  1.2 0.2]\n",
      " [5.7 4.4 1.5 0.4]\n",
      " [5.4 3.9 1.3 0.4]\n",
      " [5.1 3.5 1.4 0.3]\n",
      " [5.7 3.8 1.7 0.3]\n",
      " [5.1 3.8 1.5 0.3]\n",
      " [5.4 3.4 1.7 0.2]\n",
      " [5.1 3.7 1.5 0.4]\n",
      " [4.6 3.6 1.  0.2]\n",
      " [5.1 3.3 1.7 0.5]\n",
      " [4.8 3.4 1.9 0.2]\n",
      " [5.  3.  1.6 0.2]\n",
      " [5.  3.4 1.6 0.4]\n",
      " [5.2 3.5 1.5 0.2]\n",
      " [5.2 3.4 1.4 0.2]\n",
      " [4.7 3.2 1.6 0.2]\n",
      " [4.8 3.1 1.6 0.2]\n",
      " [5.4 3.4 1.5 0.4]\n",
      " [5.2 4.1 1.5 0.1]\n",
      " [5.5 4.2 1.4 0.2]\n",
      " [4.9 3.1 1.5 0.2]\n",
      " [5.  3.2 1.2 0.2]\n",
      " [5.5 3.5 1.3 0.2]\n",
      " [4.9 3.6 1.4 0.1]\n",
      " [4.4 3.  1.3 0.2]\n",
      " [5.1 3.4 1.5 0.2]\n",
      " [5.  3.5 1.3 0.3]\n",
      " [4.5 2.3 1.3 0.3]\n",
      " [4.4 3.2 1.3 0.2]\n",
      " [5.  3.5 1.6 0.6]\n",
      " [5.1 3.8 1.9 0.4]\n",
      " [4.8 3.  1.4 0.3]\n",
      " [5.1 3.8 1.6 0.2]\n",
      " [4.6 3.2 1.4 0.2]\n",
      " [5.3 3.7 1.5 0.2]\n",
      " [5.  3.3 1.4 0.2]\n",
      " [7.  3.2 4.7 1.4]\n",
      " [6.4 3.2 4.5 1.5]\n",
      " [6.9 3.1 4.9 1.5]\n",
      " [5.5 2.3 4.  1.3]\n",
      " [6.5 2.8 4.6 1.5]\n",
      " [5.7 2.8 4.5 1.3]\n",
      " [6.3 3.3 4.7 1.6]\n",
      " [4.9 2.4 3.3 1. ]\n",
      " [6.6 2.9 4.6 1.3]\n",
      " [5.2 2.7 3.9 1.4]\n",
      " [5.  2.  3.5 1. ]\n",
      " [5.9 3.  4.2 1.5]\n",
      " [6.  2.2 4.  1. ]\n",
      " [6.1 2.9 4.7 1.4]\n",
      " [5.6 2.9 3.6 1.3]\n",
      " [6.7 3.1 4.4 1.4]\n",
      " [5.6 3.  4.5 1.5]\n",
      " [5.8 2.7 4.1 1. ]\n",
      " [6.2 2.2 4.5 1.5]\n",
      " [5.6 2.5 3.9 1.1]\n",
      " [5.9 3.2 4.8 1.8]\n",
      " [6.1 2.8 4.  1.3]\n",
      " [6.3 2.5 4.9 1.5]\n",
      " [6.1 2.8 4.7 1.2]\n",
      " [6.4 2.9 4.3 1.3]\n",
      " [6.6 3.  4.4 1.4]\n",
      " [6.8 2.8 4.8 1.4]\n",
      " [6.7 3.  5.  1.7]\n",
      " [6.  2.9 4.5 1.5]\n",
      " [5.7 2.6 3.5 1. ]\n",
      " [5.5 2.4 3.8 1.1]\n",
      " [5.5 2.4 3.7 1. ]\n",
      " [5.8 2.7 3.9 1.2]\n",
      " [6.  2.7 5.1 1.6]\n",
      " [5.4 3.  4.5 1.5]\n",
      " [6.  3.4 4.5 1.6]\n",
      " [6.7 3.1 4.7 1.5]\n",
      " [6.3 2.3 4.4 1.3]\n",
      " [5.6 3.  4.1 1.3]\n",
      " [5.5 2.5 4.  1.3]\n",
      " [5.5 2.6 4.4 1.2]\n",
      " [6.1 3.  4.6 1.4]\n",
      " [5.8 2.6 4.  1.2]\n",
      " [5.  2.3 3.3 1. ]\n",
      " [5.6 2.7 4.2 1.3]\n",
      " [5.7 3.  4.2 1.2]\n",
      " [5.7 2.9 4.2 1.3]\n",
      " [6.2 2.9 4.3 1.3]\n",
      " [5.1 2.5 3.  1.1]\n",
      " [5.7 2.8 4.1 1.3]\n",
      " [6.3 3.3 6.  2.5]\n",
      " [5.8 2.7 5.1 1.9]\n",
      " [7.1 3.  5.9 2.1]\n",
      " [6.3 2.9 5.6 1.8]\n",
      " [6.5 3.  5.8 2.2]\n",
      " [7.6 3.  6.6 2.1]\n",
      " [4.9 2.5 4.5 1.7]\n",
      " [7.3 2.9 6.3 1.8]\n",
      " [6.7 2.5 5.8 1.8]\n",
      " [7.2 3.6 6.1 2.5]\n",
      " [6.5 3.2 5.1 2. ]\n",
      " [6.4 2.7 5.3 1.9]\n",
      " [6.8 3.  5.5 2.1]\n",
      " [5.7 2.5 5.  2. ]\n",
      " [5.8 2.8 5.1 2.4]\n",
      " [6.4 3.2 5.3 2.3]\n",
      " [6.5 3.  5.5 1.8]\n",
      " [7.7 3.8 6.7 2.2]\n",
      " [7.7 2.6 6.9 2.3]\n",
      " [6.  2.2 5.  1.5]\n",
      " [6.9 3.2 5.7 2.3]\n",
      " [5.6 2.8 4.9 2. ]\n",
      " [7.7 2.8 6.7 2. ]\n",
      " [6.3 2.7 4.9 1.8]\n",
      " [6.7 3.3 5.7 2.1]\n",
      " [7.2 3.2 6.  1.8]\n",
      " [6.2 2.8 4.8 1.8]\n",
      " [6.1 3.  4.9 1.8]\n",
      " [6.4 2.8 5.6 2.1]\n",
      " [7.2 3.  5.8 1.6]\n",
      " [7.4 2.8 6.1 1.9]\n",
      " [7.9 3.8 6.4 2. ]\n",
      " [6.4 2.8 5.6 2.2]\n",
      " [6.3 2.8 5.1 1.5]\n",
      " [6.1 2.6 5.6 1.4]\n",
      " [7.7 3.  6.1 2.3]\n",
      " [6.3 3.4 5.6 2.4]\n",
      " [6.4 3.1 5.5 1.8]\n",
      " [6.  3.  4.8 1.8]\n",
      " [6.9 3.1 5.4 2.1]\n",
      " [6.7 3.1 5.6 2.4]\n",
      " [6.9 3.1 5.1 2.3]\n",
      " [5.8 2.7 5.1 1.9]\n",
      " [6.8 3.2 5.9 2.3]\n",
      " [6.7 3.3 5.7 2.5]\n",
      " [6.7 3.  5.2 2.3]\n",
      " [6.3 2.5 5.  1.9]\n",
      " [6.5 3.  5.2 2. ]\n",
      " [6.2 3.4 5.4 2.3]\n",
      " [5.9 3.  5.1 1.8]] [[5.1        3.5        1.4        0.2       ]\n",
      " [4.9        3.         1.4        0.2       ]\n",
      " [5.85100671 3.05637584 3.77449664 1.20604027]\n",
      " [4.6        3.1        1.5        0.2       ]\n",
      " [5.         3.6        1.4        0.2       ]\n",
      " [5.4        3.9        1.7        0.4       ]\n",
      " [4.6        3.4        1.4        0.3       ]\n",
      " [5.         3.4        1.5        0.2       ]\n",
      " [4.4        2.9        1.4        0.2       ]\n",
      " [4.9        3.1        1.5        0.1       ]\n",
      " [5.4        3.7        1.5        0.2       ]\n",
      " [4.8        3.4        1.6        0.2       ]\n",
      " [4.8        3.         1.4        0.1       ]\n",
      " [4.3        3.         1.1        0.1       ]\n",
      " [5.8        4.         1.2        0.2       ]\n",
      " [5.7        4.4        1.5        0.4       ]\n",
      " [5.4        3.9        1.3        0.4       ]\n",
      " [5.1        3.5        1.4        0.3       ]\n",
      " [5.7        3.8        1.7        0.3       ]\n",
      " [5.1        3.8        1.5        0.3       ]\n",
      " [5.4        3.4        1.7        0.2       ]\n",
      " [5.1        3.7        1.5        0.4       ]\n",
      " [4.6        3.6        1.         0.2       ]\n",
      " [5.1        3.3        1.7        0.5       ]\n",
      " [4.8        3.4        1.9        0.2       ]\n",
      " [5.         3.         1.6        0.2       ]\n",
      " [5.         3.4        1.6        0.4       ]\n",
      " [5.2        3.5        1.5        0.2       ]\n",
      " [5.2        3.4        1.4        0.2       ]\n",
      " [4.7        3.2        1.6        0.2       ]\n",
      " [4.8        3.1        1.6        0.2       ]\n",
      " [5.4        3.4        1.5        0.4       ]\n",
      " [5.2        4.1        1.5        0.1       ]\n",
      " [5.5        4.2        1.4        0.2       ]\n",
      " [4.9        3.1        1.5        0.2       ]\n",
      " [5.         3.2        1.2        0.2       ]\n",
      " [5.5        3.5        1.3        0.2       ]\n",
      " [4.9        3.6        1.4        0.1       ]\n",
      " [4.4        3.         1.3        0.2       ]\n",
      " [5.1        3.4        1.5        0.2       ]\n",
      " [5.         3.5        1.3        0.3       ]\n",
      " [4.5        2.3        1.3        0.3       ]\n",
      " [4.4        3.2        1.3        0.2       ]\n",
      " [5.         3.5        1.6        0.6       ]\n",
      " [5.1        3.8        1.9        0.4       ]\n",
      " [4.8        3.         1.4        0.3       ]\n",
      " [5.1        3.8        1.6        0.2       ]\n",
      " [4.6        3.2        1.4        0.2       ]\n",
      " [5.3        3.7        1.5        0.2       ]\n",
      " [5.         3.3        1.4        0.2       ]\n",
      " [7.         3.2        4.7        1.4       ]\n",
      " [6.4        3.2        4.5        1.5       ]\n",
      " [6.9        3.1        4.9        1.5       ]\n",
      " [5.5        2.3        4.         1.3       ]\n",
      " [6.5        2.8        4.6        1.5       ]\n",
      " [5.7        2.8        4.5        1.3       ]\n",
      " [6.3        3.3        4.7        1.6       ]\n",
      " [4.9        2.4        3.3        1.        ]\n",
      " [6.6        2.9        4.6        1.3       ]\n",
      " [5.2        2.7        3.9        1.4       ]\n",
      " [5.         2.         3.5        1.        ]\n",
      " [5.9        3.         4.2        1.5       ]\n",
      " [6.         2.2        4.         1.        ]\n",
      " [6.1        2.9        4.7        1.4       ]\n",
      " [5.6        2.9        3.6        1.3       ]\n",
      " [6.7        3.1        4.4        1.4       ]\n",
      " [5.6        3.         4.5        1.5       ]\n",
      " [5.8        2.7        4.1        1.        ]\n",
      " [6.2        2.2        4.5        1.5       ]\n",
      " [5.6        2.5        3.9        1.1       ]\n",
      " [5.9        3.2        4.8        1.8       ]\n",
      " [6.1        2.8        4.         1.3       ]\n",
      " [6.3        2.5        4.9        1.5       ]\n",
      " [6.1        2.8        4.7        1.2       ]\n",
      " [6.4        2.9        4.3        1.3       ]\n",
      " [6.6        3.         4.4        1.4       ]\n",
      " [6.8        2.8        4.8        1.4       ]\n",
      " [6.7        3.         5.         1.7       ]\n",
      " [6.         2.9        4.5        1.5       ]\n",
      " [5.7        2.6        3.5        1.        ]\n",
      " [5.5        2.4        3.8        1.1       ]\n",
      " [5.5        2.4        3.7        1.        ]\n",
      " [5.8        2.7        3.9        1.2       ]\n",
      " [6.         2.7        5.1        1.6       ]\n",
      " [5.4        3.         4.5        1.5       ]\n",
      " [6.         3.4        4.5        1.6       ]\n",
      " [6.7        3.1        4.7        1.5       ]\n",
      " [6.3        2.3        4.4        1.3       ]\n",
      " [5.6        3.         4.1        1.3       ]\n",
      " [5.5        2.5        4.         1.3       ]\n",
      " [5.5        2.6        4.4        1.2       ]\n",
      " [6.1        3.         4.6        1.4       ]\n",
      " [5.8        2.6        4.         1.2       ]\n",
      " [5.         2.3        3.3        1.        ]\n",
      " [5.6        2.7        4.2        1.3       ]\n",
      " [5.7        3.         4.2        1.2       ]\n",
      " [5.7        2.9        4.2        1.3       ]\n",
      " [6.2        2.9        4.3        1.3       ]\n",
      " [5.1        2.5        3.         1.1       ]\n",
      " [5.7        2.8        4.1        1.3       ]\n",
      " [6.3        3.3        6.         2.5       ]\n",
      " [5.8        2.7        5.1        1.9       ]\n",
      " [7.1        3.         5.9        2.1       ]\n",
      " [6.3        2.9        5.6        1.8       ]\n",
      " [6.5        3.         5.8        2.2       ]\n",
      " [7.6        3.         6.6        2.1       ]\n",
      " [4.9        2.5        4.5        1.7       ]\n",
      " [7.3        2.9        6.3        1.8       ]\n",
      " [6.7        2.5        5.8        1.8       ]\n",
      " [7.2        3.6        6.1        2.5       ]\n",
      " [6.5        3.2        5.1        2.        ]\n",
      " [6.4        2.7        5.3        1.9       ]\n",
      " [6.8        3.         5.5        2.1       ]\n",
      " [5.7        2.5        5.         2.        ]\n",
      " [5.8        2.8        5.1        2.4       ]\n",
      " [6.4        3.2        5.3        2.3       ]\n",
      " [6.5        3.         5.5        1.8       ]\n",
      " [7.7        3.8        6.7        2.2       ]\n",
      " [7.7        2.6        6.9        2.3       ]\n",
      " [6.         2.2        5.         1.5       ]\n",
      " [6.9        3.2        5.7        2.3       ]\n",
      " [5.6        2.8        4.9        2.        ]\n",
      " [7.7        2.8        6.7        2.        ]\n",
      " [6.3        2.7        4.9        1.8       ]\n",
      " [6.7        3.3        5.7        2.1       ]\n",
      " [7.2        3.2        6.         1.8       ]\n",
      " [6.2        2.8        4.8        1.8       ]\n",
      " [6.1        3.         4.9        1.8       ]\n",
      " [6.4        2.8        5.6        2.1       ]\n",
      " [7.2        3.         5.8        1.6       ]\n",
      " [7.4        2.8        6.1        1.9       ]\n",
      " [7.9        3.8        6.4        2.        ]\n",
      " [6.4        2.8        5.6        2.2       ]\n",
      " [6.3        2.8        5.1        1.5       ]\n",
      " [6.1        2.6        5.6        1.4       ]\n",
      " [7.7        3.         6.1        2.3       ]\n",
      " [6.3        3.4        5.6        2.4       ]\n",
      " [6.4        3.1        5.5        1.8       ]\n",
      " [6.         3.         4.8        1.8       ]\n",
      " [6.9        3.1        5.4        2.1       ]\n",
      " [6.7        3.1        5.6        2.4       ]\n",
      " [6.9        3.1        5.1        2.3       ]\n",
      " [5.8        2.7        5.1        1.9       ]\n",
      " [6.8        3.2        5.9        2.3       ]\n",
      " [6.7        3.3        5.7        2.5       ]\n",
      " [6.7        3.         5.2        2.3       ]\n",
      " [6.3        2.5        5.         1.9       ]\n",
      " [6.5        3.         5.2        2.        ]\n",
      " [6.2        3.4        5.4        2.3       ]\n",
      " [5.9        3.         5.1        1.8       ]] [5.851006711409397 3.0563758389261757 3.7744966442953043\n",
      " 1.2060402684563765] \n",
      " ------ \n",
      " [5.85100671 3.05637584 3.77449664 1.20604027]\n"
     ]
    },
    {
     "name": "stderr",
     "output_type": "stream",
     "text": [
      "/opt/conda/lib/python3.7/site-packages/sklearn/utils/deprecation.py:66: DeprecationWarning: Class Imputer is deprecated; Imputer was deprecated in version 0.20 and will be removed in 0.22. Import impute.SimpleImputer from sklearn instead.\n",
      "  warnings.warn(msg, category=DeprecationWarning)\n"
     ]
    }
   ],
   "source": [
    "from sklearn.datasets import load_iris\n",
    "from sklearn.preprocessing import Imputer\n",
    "import numpy as np\n",
    "import numpy.ma as ma\n",
    "\n",
    "data = load_iris()\n",
    "\n",
    "x = data['data']\n",
    "y = data['target']\n",
    "\n",
    "x_t = x.copy()\n",
    "\n",
    "x_t[2,:] = np.repeat(0,x.shape[1])\n",
    "\n",
    "imputer = Imputer(missing_values=0,strategy=\"mean\")\n",
    "\n",
    "x_imputed = imputer.fit_transform(x_t)\n",
    "\n",
    "mask = np.zeros_like(x_t)\n",
    "\n",
    "mask[2,:] = 1\n",
    "\n",
    "x_t_m = ma.masked_array(x_t, mask)\n",
    "\n",
    "print(x_t,x_imputed,np.mean(x_t_m, axis=0),\"\\n ------ \\n\",x_imputed[2,:])"
   ]
  },
  {
   "cell_type": "code",
   "execution_count": 184,
   "metadata": {},
   "outputs": [
    {
     "name": "stdout",
     "output_type": "stream",
     "text": [
      "[19.0, 23.0, 14.0, 10.0, 11.0, 21.0, 22.0, 19.0, 23.0, 10.0]\n",
      "[0.69, 1.0, 0.31, 0.0, 0.08, 0.85, 0.92, 0.69, 1.0, 0.0]\n"
     ]
    }
   ],
   "source": [
    "# Load Libraries\n",
    "import numpy as np\n",
    "# 1.\n",
    "# Generate some random data for scaling\n",
    "np.random.seed(10)\n",
    "x = [np.random.randint(10,25)*1.0 for i in range(10)]\n",
    "# Now, we will demonstrate scaling:\n",
    "# 2.Define a function, which can perform min max scaling given a list of numbers\n",
    "def min_max(x):\n",
    "    return [round((xx-min(x))/(1.0*(max(x)-min(x))),2) for xx in x]\n",
    "# 3.Perform scaling on the given input list.\n",
    "print(x)\n",
    "print(min_max(x))"
   ]
  },
  {
   "cell_type": "code",
   "execution_count": 185,
   "metadata": {},
   "outputs": [
    {
     "name": "stdout",
     "output_type": "stream",
     "text": [
      "[[19.]\n",
      " [23.]\n",
      " [14.]\n",
      " [10.]\n",
      " [11.]\n",
      " [21.]\n",
      " [22.]\n",
      " [19.]\n",
      " [23.]\n",
      " [10.]]\n",
      "[[0.69230769]\n",
      " [1.        ]\n",
      " [0.30769231]\n",
      " [0.        ]\n",
      " [0.07692308]\n",
      " [0.84615385]\n",
      " [0.92307692]\n",
      " [0.69230769]\n",
      " [1.        ]\n",
      " [0.        ]]\n"
     ]
    }
   ],
   "source": [
    "from sklearn.preprocessing import MinMaxScaler\n",
    "import numpy as np\n",
    "np.random.seed(10)\n",
    "x = np.matrix([np.random.randint(10,25)*1.0 for i in range(10)])\n",
    "x = x.T\n",
    "minmax = MinMaxScaler(feature_range=(0.0,1.0))\n",
    "print(x)\n",
    "x_t = minmax.fit_transform(x)\n",
    "print(x_t)"
   ]
  },
  {
   "cell_type": "code",
   "execution_count": 189,
   "metadata": {},
   "outputs": [
    {
     "name": "stdout",
     "output_type": "stream",
     "text": [
      "[19.0, 23.0, 14.0, 10.0, 11.0, 21.0, 22.0, 19.0, 23.0, 10.0]\n",
      "[ 1.8  5.8 -3.2 -7.2 -6.2  3.8  4.8  1.8  5.8 -7.2]\n",
      "[ 0.35059022  1.12967961 -0.62327151 -1.4023609  -1.20758855  0.74013492\n",
      "  0.93490726  0.35059022  1.12967961 -1.4023609 ]\n",
      "Origin x mean = 17.20, Centered x mean = 0.00, Std dev of standard x = 1.00\n"
     ]
    }
   ],
   "source": [
    "import numpy as np\n",
    "\n",
    "from sklearn.preprocessing import scale\n",
    "\n",
    "np.random.seed(10)\n",
    "\n",
    "x = [np.random.randint(10,25)*1.0 for i in range(10)]\n",
    "print(x)\n",
    "\n",
    "x_centered = scale(x, with_mean=True, with_std=False)\n",
    "x_standard = scale(x, with_mean=True, with_std=True)\n",
    "\n",
    "print(x_centered)\n",
    "print(x_standard)\n",
    "\n",
    "print(\"Origin x mean = %0.2f, Centered x mean = %0.2f, Std dev of standard x = %0.2f\" \n",
    "      % (np.mean(x), np.mean(x_centered),np.std(x_standard)))"
   ]
  },
  {
   "cell_type": "code",
   "execution_count": 196,
   "metadata": {},
   "outputs": [
    {
     "name": "stdout",
     "output_type": "stream",
     "text": [
      "[100 200 300 200 600 600 300 400 200 300 200 600 600 300 900 200 300 200\n",
      " 600 600 300]\n",
      "683200\n",
      "313600\n"
     ]
    }
   ],
   "source": [
    "import numpy as np\n",
    "# Simple example to illustrate Kernel Function concept.\n",
    "# 3 Dimensional input space\n",
    "x = np.array([10,20,30])\n",
    "y = np.array([8,9,10])\n",
    "# Let us find a mapping function to transform this space\n",
    "# phi(x1,x2,x3) = (x1x2,x1x3,x2x3,x1x1,x2x2,x3x3)\n",
    "# this will transorm the input space into 6 dimesions\n",
    "def mapping_function(x):\n",
    "    output_list =[]\n",
    "    for i in range(len(x)):\n",
    "        output_list.append(x[i]*x[i])\n",
    "        output_list.append(x[0]*x[1])\n",
    "        output_list.append(x[0]*x[2])\n",
    "        output_list.append(x[1]*x[0])\n",
    "        output_list.append(x[1]*x[2])\n",
    "        output_list.append(x[2]*x[1])\n",
    "        output_list.append(x[2]*x[0])\n",
    "    return np.array(output_list)\n",
    "\n",
    "if __name__ == \"__main__\":\n",
    "    # Apply the mapping function\n",
    "    tranf_x = mapping_function(x)\n",
    "    tranf_y = mapping_function(y)\n",
    "    # Print the output\n",
    "    print(tranf_x)\n",
    "    print(np.dot(tranf_x,tranf_y))\n",
    "    # Print the equivalent kernel functions\n",
    "    # transformation output.\n",
    "    output = np.power((np.dot(x,y)),2)\n",
    "    print(output)"
   ]
  },
  {
   "cell_type": "code",
   "execution_count": 198,
   "metadata": {},
   "outputs": [
    {
     "data": {
      "image/png": "[encoded data removed]",
      "text/plain": [
       "<Figure size 432x288 with 1 Axes>"
      ]
     },
     "metadata": {
      "needs_background": "light"
     },
     "output_type": "display_data"
    }
   ],
   "source": [
    "import numpy as np\n",
    "import matplotlib.pyplot as plt\n",
    "def get_random_data():\n",
    "    x_1 = np.random.normal(loc=0.2,scale=0.2,size=(100,100))\n",
    "    x_2 = np.random.normal(loc=0.9,scale=0.1,size=(100,100))\n",
    "    x = np.r_[x_1,x_2]\n",
    "    return x\n",
    "\n",
    "\n",
    "x = get_random_data()\n",
    "plt.cla()\n",
    "plt.figure(1)\n",
    "plt.title(\"Generated Data\")\n",
    "plt.scatter(x[:,0],x[:,1])\n",
    "plt.show()\n"
   ]
  },
  {
   "cell_type": "code",
   "execution_count": 200,
   "metadata": {},
   "outputs": [
    {
     "name": "stdout",
     "output_type": "stream",
     "text": [
      "[0 0 0 0 0 0 0 0 0 0 0 0 0 0 0 0 0 0 0 0 0 0 0 0 0 0 0 0 0 0 0 0 0 0 0 0 0\n",
      " 0 0 0 0 0 0 0 0 0 0 0 0 0 0 0 0 0 0 0 0 0 0 0 0 0 0 0 0 0 0 0 0 0 0 0 0 0\n",
      " 0 0 0 0 0 0 0 0 0 0 0 0 0 0 0 0 0 0 0 0 0 0 0 0 0 0 1 1 1 1 1 1 1 1 1 1 1\n",
      " 1 1 1 1 1 1 1 1 1 1 1 1 1 1 1 1 1 1 1 1 1 1 1 1 1 1 1 1 1 1 1 1 1 1 1 1 1\n",
      " 1 1 1 1 1 1 1 1 1 1 1 1 1 1 1 1 1 1 1 1 1 1 1 1 1 1 1 1 1 1 1 1 1 1 1 1 1\n",
      " 1 1 1 1 1 1 1 1 1 1 1 1 1 1 1]\n",
      "[2 0 0 0 0 0 0 0 2 2 0 2 0 0 2 0 0 0 2 0 2 2 0 2 0 0 0 2 0 2 0 0 2 0 0 0 0\n",
      " 2 0 0 0 2 2 0 0 2 2 0 0 2 0 2 0 0 0 0 2 0 0 0 2 0 0 2 0 2 0 0 2 0 0 2 0 0\n",
      " 2 0 0 0 0 0 2 2 2 2 2 2 2 0 0 2 2 2 0 2 0 2 2 2 0 0 1 1 1 1 1 1 1 1 1 1 1\n",
      " 1 1 1 1 1 1 1 1 1 1 1 1 1 1 1 1 1 1 1 1 1 1 1 1 1 1 1 1 1 1 1 1 1 1 1 1 1\n",
      " 1 1 1 1 1 1 1 1 1 1 1 1 1 1 1 1 1 1 1 1 1 1 1 1 1 1 1 1 1 1 1 1 1 1 1 1 1\n",
      " 1 1 1 1 1 1 1 1 1 1 1 1 1 1 1]\n",
      "[0 2 1 2 2 1 1 2 2 1 2 1 2 2 0 0 1 0 1 1 0 1 0 0 1 2 1 1 0 0 2 2 1 2 1 0 2\n",
      " 0 0 2 1 0 0 0 2 0 1 2 1 0 2 0 2 2 2 1 0 0 1 1 0 1 2 1 1 1 2 2 1 0 2 2 0 2\n",
      " 1 1 2 0 0 2 1 1 1 2 0 0 1 0 2 1 1 0 0 0 2 1 0 1 1 1 3 3 3 3 3 3 3 3 3 3 3\n",
      " 3 3 3 3 3 3 3 3 3 3 3 3 3 3 3 3 3 3 3 3 3 3 3 3 3 3 3 3 3 3 3 3 3 3 3 3 3\n",
      " 3 3 3 3 3 3 3 3 3 3 3 3 3 3 3 3 3 3 3 3 3 3 3 3 3 3 3 3 3 3 3 3 3 3 3 3 3\n",
      " 3 3 3 3 3 3 3 3 3 3 3 3 3 3 3]\n",
      "[0 2 1 1 3 2 0 2 3 1 3 2 3 3 3 2 3 1 0 1 2 0 0 1 0 3 0 0 2 0 1 2 3 0 0 2 1\n",
      " 1 1 2 2 2 2 1 3 2 1 1 0 2 1 0 3 0 2 2 2 2 0 1 0 2 2 0 0 0 1 0 0 2 1 0 2 3\n",
      " 2 2 1 2 0 2 0 0 0 3 2 2 2 3 3 0 0 0 2 2 3 1 1 0 2 1 4 4 4 4 4 4 4 4 4 4 4\n",
      " 4 4 4 4 4 4 4 4 4 4 4 4 4 4 4 4 4 4 4 4 4 4 4 4 4 4 4 4 4 4 4 4 4 4 4 4 4\n",
      " 4 4 4 4 4 4 4 4 4 4 4 4 4 4 4 4 4 4 4 4 4 4 4 4 4 4 4 4 4 4 4 4 4 4 4 4 4\n",
      " 4 4 4 4 4 4 4 4 4 4 4 4 4 4 4]\n"
     ]
    },
    {
     "data": {
      "image/png": "[encoded data removed]",
      "text/plain": [
       "<Figure size 432x288 with 1 Axes>"
      ]
     },
     "metadata": {
      "needs_background": "light"
     },
     "output_type": "display_data"
    }
   ],
   "source": [
    "from sklearn.cluster import KMeans\n",
    "from sklearn.metrics import silhouette_score\n",
    "def form_clusters(x,k):\n",
    "    \"\"\"\n",
    "    Build clusters\n",
    "    \"\"\"\n",
    "    # k = required number of clusters\n",
    "    no_clusters = k\n",
    "    model = KMeans(n_clusters=no_clusters,init='random')\n",
    "    model.fit(x)\n",
    "    labels = model.labels_\n",
    "    print(labels)\n",
    "    # Cacluate the silhouette score\n",
    "    sh_score = silhouette_score(x,labels)\n",
    "    return sh_score\n",
    "\n",
    "sh_scores = []\n",
    "for i in range(1,5):\n",
    "    sh_score = form_clusters(x,i+1)\n",
    "    sh_scores.append(sh_score)\n",
    "\n",
    "no_clusters = [i+1 for i in range(1,5)]\n",
    "plt.figure(2)\n",
    "plt.plot(no_clusters,sh_scores)\n",
    "plt.title(\"Cluster Quality\")\n",
    "plt.xlabel(\"No of clusters k\")\n",
    "plt.ylabel(\"Silhouette Coefficient\")\n",
    "plt.show()"
   ]
  },
  {
   "cell_type": "code",
   "execution_count": 206,
   "metadata": {},
   "outputs": [
    {
     "name": "stdout",
     "output_type": "stream",
     "text": [
      "class id \t Initial protype vector\n",
      "\n",
      "0 \t [0.11111111 0.5        0.10169492 0.04166667]\n",
      "\n",
      "0 \t [0.16666667 0.45833333 0.08474576 0.        ]\n",
      "\n",
      "1 \t [0.30555556 0.41666667 0.59322034 0.58333333]\n",
      "\n",
      "1 \t [0.33333333 0.125      0.50847458 0.5       ]\n",
      "\n",
      "2 \t [0.58333333 0.5        0.72881356 0.91666667]\n",
      "\n",
      "2 \t [0.94444444 0.75       0.96610169 0.875     ]\n",
      "\n",
      "class id \t Final Prototype Vector\n",
      "\n",
      "0 \t [0.11111111 0.5        0.10169492 0.04166667]\n",
      "0 \t [0.16666667 0.45833333 0.08474576 0.        ]\n",
      "1 \t [0.30555556 0.41666667 0.59322034 0.58333333]\n",
      "1 \t [0.33333333 0.125      0.50847458 0.5       ]\n",
      "2 \t [0.58333333 0.5        0.72881356 0.91666667]\n",
      "2 \t [0.94444444 0.75       0.96610169 0.875     ]\n"
     ]
    }
   ],
   "source": [
    "from sklearn.datasets import load_iris\n",
    "import numpy as np\n",
    "from sklearn.metrics import euclidean_distances\n",
    "data = load_iris()\n",
    "x = data['data']\n",
    "y = data['target']\n",
    "# Scale the variables\n",
    "from sklearn.preprocessing import MinMaxScaler\n",
    "minmax = MinMaxScaler()\n",
    "x = minmax.fit_transform(x)\n",
    "\n",
    "R = 2\n",
    "n_classes = 3\n",
    "epsilon = 0.9\n",
    "epsilon_dec_factor = 0.001\n",
    "\n",
    "class prototype(object):\n",
    "    \"\"\"\n",
    "    Class to hold prototype vectors\n",
    "    \"\"\"\n",
    "    def __init__(self,class_id,p_vector,eplsilon):\n",
    "        self.class_id = class_id\n",
    "        self.p_vector = p_vector\n",
    "        self.epsilon = epsilon\n",
    "        \n",
    "    def update(self,u_vector,increment=True):\n",
    "        if increment:\n",
    "            # Move the prototype vector closer to input vector\n",
    "            self.p_vector = self.p_vector + self.epsilon*(u_vector - self.p_vector)\n",
    "        else:\n",
    "            # Move the prototype vector away from input vector\n",
    "            self.p_vector = self.p_vector - self.epsilon*(u_vector - self.p_vector)\n",
    "            \n",
    "def find_closest(in_vector,proto_vectors):\n",
    "    closest = None\n",
    "    closest_distance = 99999\n",
    "    \n",
    "    for p_v in proto_vectors:\n",
    "        distance = euclidean_distances(in_vector,p_v.p_vector)\n",
    "        if distance < closest_distance:\n",
    "            closest_distance = distance\n",
    "            closest = p_v\n",
    "    return closest           \n",
    "\n",
    "def find_class_id(test_vector,p_vectors):\n",
    "    return find_closest(test_vector,p_vectors).class_id\n",
    "\n",
    "# Choose R initial prototypes for each class\n",
    "p_vectors = []\n",
    "for i in range(n_classes):\n",
    "    # Select a class\n",
    "    y_subset = np.where(y == i)# Select tuples for choosen class\n",
    "    x_subset = x[y_subset]\n",
    "    # Get R random indices between 0 and 50\n",
    "    samples = np.random.randint(0,len(x_subset),R)\n",
    "    # Select p_vectors\n",
    "    for sample in samples:\n",
    "        s = x_subset[sample]\n",
    "        p = prototype(i,s,epsilon)\n",
    "        p_vectors.append(p)\n",
    "        \n",
    "print(\"class id \\t Initial protype vector\\n\")\n",
    "for p_v in p_vectors:\n",
    "    print(p_v.class_id,'\\t',p_v.p_vector)\n",
    "    print(\"\")\n",
    "    \n",
    "# while epsilon >= 0.01:\n",
    "#     # Sample a training instance randonly\n",
    "#     rnd_i = np.random.randint(0,149)\n",
    "#     rnd_s = x[rnd_i]\n",
    "#     target_y = y[rnd_i]\n",
    "    \n",
    "#     # Decrement epsilon value for next iteration\n",
    "#     epsilon = epsilon - epsilon_dec_factor\n",
    "    \n",
    "#     # Find closes prototype vector to given point\n",
    "#     closest_pvector = find_closest(rnd_s,p_vectors)\n",
    "#     # Update closes prototype vector\n",
    "#     if target_y == closest_pvector.class_id:\n",
    "#         closest_pvector.update(rnd_s)\n",
    "#     else:\n",
    "#         closest_pvector.update(rnd_s,False)\n",
    "        \n",
    "#     closest_pvector.epsilon = epsilon\n",
    "    \n",
    "print( \"class id \\t Final Prototype Vector\\n\")\n",
    "for p_vector in p_vectors:\n",
    "    print( p_vector.class_id,'\\t',p_vector.p_vector)\n",
    "    \n",
    "    \n",
    "# predicted_y = [find_class_id(instance,p_vectors) for instance in x ]\n",
    "# from sklearn.metrics import classification_report\n",
    "# print(\"\")\n",
    "# print(classification_report(y,predicted_y,target_names=['Iris- Setosa','Iris-Versicolour', 'Iris-Virginica']))"
   ]
  },
  {
   "cell_type": "code",
   "execution_count": 208,
   "metadata": {},
   "outputs": [
    {
     "name": "stdout",
     "output_type": "stream",
     "text": [
      "Mean =(-0.00) and Standard Deviation (1.01)\n",
      "Mean =(-0.00) and Standard Deviation (1.01)\n",
      "Size of input data = (100,1)\n"
     ]
    },
    {
     "data": {
      "text/plain": [
       "<matplotlib.collections.PathCollection at 0x7f92b0f662e8>"
      ]
     },
     "execution_count": 208,
     "metadata": {},
     "output_type": "execute_result"
    },
    {
     "data": {
      "image/png": "[encoded data removed]",
      "text/plain": [
       "<Figure size 432x288 with 1 Axes>"
      ]
     },
     "metadata": {
      "needs_background": "light"
     },
     "output_type": "display_data"
    }
   ],
   "source": [
    "import numpy as np\n",
    "import matplotlib.pyplot as plt\n",
    "n_samples = 100\n",
    "fraction_of_outliers = 0.1\n",
    "number_inliers = int ( (1-fraction_of_outliers) * n_samples )\n",
    "number_outliers = n_samples - number_inliers\n",
    "\n",
    "# Get some samples from a normal distribution\n",
    "normal_data = np.random.randn(number_inliers,1)\n",
    "# Print the mean and standard deviation\n",
    "# to confirm the normality of our input data.\n",
    "mean = np.mean(normal_data,axis=0)\n",
    "std = np.std(normal_data,axis=0)\n",
    "print( \"Mean =(%0.2f) and Standard Deviation (%0.2f)\"%(mean[0],std[0]))\n",
    "# Print the mean and standard deviation\n",
    "# to confirm the normality of our input data.\n",
    "mean = np.mean(normal_data,axis=0)\n",
    "std = np.std(normal_data,axis=0)\n",
    "print( \"Mean =(%0.2f) and Standard Deviation (%0.2f)\"%(mean[0],std[0]))\n",
    "\n",
    "# Create outlier data\n",
    "outlier_data = np.random.uniform(low=-9,high=9,size=(number_outliers,1))\n",
    "total_data = np.r_[normal_data,outlier_data]\n",
    "print( \"Size of input data = (%d,%d)\"%(total_data.shape))\n",
    "# Eyeball the data\n",
    "plt.cla()\n",
    "plt.figure(1)\n",
    "plt.title(\"Input points\")\n",
    "plt.scatter(range(len(total_data)),total_data,c='b')"
   ]
  },
  {
   "cell_type": "code",
   "execution_count": 210,
   "metadata": {},
   "outputs": [
    {
     "name": "stdout",
     "output_type": "stream",
     "text": [
      "Median absolute Deviation = 1.02\n",
      "Lower limit = -3.12, Upper limit = 2.99\n",
      "Outlier 6.98\n",
      "Outlier 3.07\n",
      "Outlier -6.81\n",
      "Outlier -8.61\n",
      "Outlier 7.73\n"
     ]
    },
    {
     "data": {
      "image/png": "[encoded data removed]",
      "text/plain": [
       "<Figure size 432x288 with 1 Axes>"
      ]
     },
     "metadata": {
      "needs_background": "light"
     },
     "output_type": "display_data"
    }
   ],
   "source": [
    "# Median Absolute Deviation\n",
    "median = np.median(total_data)\n",
    "b = 1.4826\n",
    "mad = b * np.median(np.abs(total_data - median))\n",
    "outliers = []\n",
    "# Useful while plotting\n",
    "outlier_index = []\n",
    "print( \"Median absolute Deviation = %.2f\"%(mad))\n",
    "lower_limit = median - (3*mad)\n",
    "upper_limit = median + (3*mad)\n",
    "print( \"Lower limit = %0.2f, Upper limit = %0.2f\" %(lower_limit,upper_limit))\n",
    "for i in range(len(total_data)):\n",
    "    if total_data[i] > upper_limit or total_data[i] < lower_limit:\n",
    "        print( \"Outlier %0.2f\"%(total_data[i]))\n",
    "        outliers.append(total_data[i])\n",
    "        outlier_index.append(i)\n",
    "plt.figure(2)\n",
    "plt.title(\"Outliers using mad\")\n",
    "plt.scatter(range(len(total_data)),total_data,c='b')\n",
    "plt.scatter(outlier_index,outliers,c='r')\n",
    "plt.show()"
   ]
  },
  {
   "cell_type": "code",
   "execution_count": 211,
   "metadata": {},
   "outputs": [
    {
     "data": {
      "image/png": "[encoded data removed]",
      "text/plain": [
       "<Figure size 432x288 with 1 Axes>"
      ]
     },
     "metadata": {
      "needs_background": "light"
     },
     "output_type": "display_data"
    }
   ],
   "source": [
    "from collections import defaultdict\n",
    "import numpy as np\n",
    "import matplotlib.pyplot as plt\n",
    "\n",
    "instances = np.matrix([[0,0],[0,1],[1,1],[1,0],[5,0]])\n",
    "\n",
    "x = np.squeeze(np.asarray(instances[:,0]))\n",
    "y = np.squeeze(np.asarray(instances[:,1]))\n",
    "plt.cla()\n",
    "plt.figure(1)\n",
    "plt.scatter(x,y)\n",
    "plt.show()"
   ]
  },
  {
   "cell_type": "code",
   "execution_count": 216,
   "metadata": {},
   "outputs": [
    {
     "name": "stdout",
     "output_type": "stream",
     "text": [
      "k distance neighbourhood 0\n",
      "[0.0, 1.0, 2.0, 1.0, 5.0]\n",
      "[1.0, 1.0]\n",
      "{1.0}\n",
      "k distance neighbourhood 1\n",
      "[1.0, 0.0, 1.0, 2.0, 6.0]\n",
      "[1.0, 1.0]\n",
      "{1.0}\n",
      "k distance neighbourhood 2\n",
      "[2.0, 1.0, 0.0, 1.0, 5.0]\n",
      "[1.0, 1.0]\n",
      "{1.0}\n",
      "k distance neighbourhood 3\n",
      "[1.0, 2.0, 1.0, 0.0, 4.0]\n",
      "[1.0, 1.0]\n",
      "{1.0}\n",
      "k distance neighbourhood 4\n",
      "[5.0, 6.0, 5.0, 4.0, 0.0]\n",
      "[4.0, 5.0]\n",
      "{4.0, 5.0}\n"
     ]
    }
   ],
   "source": [
    "k = 2\n",
    "distance = 'manhattan'\n",
    "\n",
    "from sklearn.metrics import pairwise_distances\n",
    "dist = pairwise_distances(instances,metric=distance)\n",
    "\n",
    "# Calculate K distance\n",
    "import heapq\n",
    "k_distance = defaultdict(tuple)\n",
    "# For each data point\n",
    "for i in range(instances.shape[0]):\n",
    "    # Get its distance to all the other points.\n",
    "    # Convert array into list for convienience\n",
    "    distances = dist[i].tolist()\n",
    "    # Get the K nearest neighbours\n",
    "    ksmallest = heapq.nsmallest(k+1,distances)[1:][k-1]\n",
    "    # Get their indices\n",
    "    ksmallest_idx = distances.index(ksmallest)\n",
    "    # For each data point store the K th nearest neighbour and its distance\n",
    "    k_distance[i]=(ksmallest,ksmallest_idx)\n",
    "    \n",
    "def all_indices(value, inlist):\n",
    "    out_indices = []\n",
    "    idx = -1\n",
    "    while True:\n",
    "        try:\n",
    "            idx = inlist.index(value, idx+1)\n",
    "            out_indices.append(idx)\n",
    "        except ValueError:\n",
    "            break\n",
    "    return out_indices\n",
    "\n",
    "# Calculate K distance neighbourhood\n",
    "import heapq\n",
    "k_distance_neig = defaultdict(list)\n",
    "\n",
    "# For each data point\n",
    "for i in range(instances.shape[0]):\n",
    "    # Get the points distances to its neighbours\n",
    "    distances = dist[i].tolist()\n",
    "    print( \"k distance neighbourhood\",i)\n",
    "    print( distances)\n",
    "    # Get the 1 to K nearest neighbours\n",
    "    ksmallest = heapq.nsmallest(k+1,distances)[1:]\n",
    "    print( ksmallest)\n",
    "    ksmallest_set = set(ksmallest)\n",
    "    print( ksmallest_set)\n",
    "    ksmallest_idx = []\n",
    "    \n",
    "    # Get the indices of the K smallest elements\n",
    "    for x in ksmallest_set:\n",
    "        ksmallest_idx.append(all_indices(x,distances))\n",
    "    # Change a list of list to list\n",
    "    ksmallest_idx = [item for sublist in ksmallest_idx for item in sublist]\n",
    "\n",
    "    # For each data pont store the K distance neighbourhood\n",
    "    k_distance_neig[i].extend(zip(ksmallest,ksmallest_idx))\n",
    "\n",
    "\n",
    "#Local reachable density\n",
    "local_reach_density = defaultdict(float)\n",
    "for i in range(instances.shape[0]):\n",
    "    # LRDs numerator, number of K distance neighbourhood\n",
    "    no_neighbours = len(k_distance_neig[i])\n",
    "    denom_sum = 0\n",
    "    # Reachability distance sum\n",
    "    for neigh in k_distance_neig[i]:\n",
    "        # maximum(K-Distance(P), Distance(P,Q))\n",
    "        denom_sum+=max(k_distance[neigh[1]][0],neigh[0])\n",
    "    local_reach_density[i] = no_neighbours/(1.0*denom_sum)\n",
    "    \n",
    "lof_list =[]\n",
    "#Local Outlier Factor\n",
    "for i in range(instances.shape[0]):\n",
    "    lrd_sum = 0\n",
    "    rdist_sum = 0\n",
    "    for neigh in k_distance_neig[i]:\n",
    "        lrd_sum+=local_reach_density[neigh[1]]\n",
    "        rdist_sum+=max(k_distance[neigh[1]][0],neigh[0])\n",
    "    lof_list.append((i,lrd_sum*rdist_sum))"
   ]
  },
  {
   "cell_type": "code",
   "execution_count": 252,
   "metadata": {},
   "outputs": [
    {
     "name": "stdout",
     "output_type": "stream",
     "text": [
      "<function get_iris_data at 0x7f92af5de268>\n",
      "Dataset size  (150, 5)\n",
      "Train size  (120, 5)\n",
      "Test size (30, 5)\n",
      "\n",
      "Train data set class label distribution\n",
      "=========================================\n",
      "\n",
      "Class label =0, percentage records =0.32\n",
      "Class label =1, percentage records =0.35\n",
      "Class label =2, percentage records =0.33\n",
      "\n",
      "Test data set class label distribution\n",
      "=========================================\n",
      "\n",
      "Class label =0, percentage records =0.40\n",
      "Class label =1, percentage records =0.27\n",
      "Class label =2, percentage records =0.33\n",
      "[[5.2 2.7 3.9 1.4 1. ]\n",
      " [5.8 4.  1.2 0.2 0. ]\n",
      " [5.6 2.7 4.2 1.3 1. ]\n",
      " [4.9 3.1 1.5 0.2 0. ]\n",
      " [5.7 3.8 1.7 0.3 0. ]\n",
      " [5.2 3.5 1.5 0.2 0. ]\n",
      " [4.7 3.2 1.3 0.2 0. ]\n",
      " [5.8 2.7 4.1 1.  1. ]\n",
      " [6.3 2.7 4.9 1.8 2. ]\n",
      " [5.5 3.5 1.3 0.2 0. ]\n",
      " [6.5 3.2 5.1 2.  2. ]\n",
      " [6.4 2.7 5.3 1.9 2. ]\n",
      " [7.1 3.  5.9 2.1 2. ]\n",
      " [4.9 3.  1.4 0.2 0. ]\n",
      " [5.5 2.4 3.8 1.1 1. ]\n",
      " [4.6 3.1 1.5 0.2 0. ]\n",
      " [6.5 3.  5.5 1.8 2. ]\n",
      " [5.7 3.  4.2 1.2 1. ]\n",
      " [7.4 2.8 6.1 1.9 2. ]\n",
      " [6.7 3.3 5.7 2.1 2. ]\n",
      " [5.2 3.4 1.4 0.2 0. ]\n",
      " [4.4 3.  1.3 0.2 0. ]\n",
      " [6.9 3.2 5.7 2.3 2. ]\n",
      " [5.6 2.5 3.9 1.1 1. ]\n",
      " [6.3 3.4 5.6 2.4 2. ]\n",
      " [4.9 3.1 1.5 0.1 0. ]\n",
      " [5.  2.  3.5 1.  1. ]\n",
      " [5.  3.3 1.4 0.2 0. ]\n",
      " [6.9 3.1 5.1 2.3 2. ]\n",
      " [5.1 2.5 3.  1.1 1. ]]\n",
      "\n",
      "Train data set class label distribution\n",
      "=========================================\n",
      "\n",
      "Class label =0, percentage records =0.33\n",
      "Class label =1, percentage records =0.33\n",
      "Class label =2, percentage records =0.33\n",
      "\n",
      "Test data set class label distribution\n",
      "=========================================\n",
      "\n",
      "Class label =0, percentage records =0.33\n",
      "Class label =1, percentage records =0.33\n",
      "Class label =2, percentage records =0.33\n",
      "\n",
      "Train data set class label distribution\n",
      "=========================================\n",
      "\n",
      "Class label =0, percentage records =0.33\n",
      "Class label =1, percentage records =0.33\n",
      "Class label =2, percentage records =0.33\n",
      "\n",
      "Test data set class label distribution\n",
      "=========================================\n",
      "\n",
      "Class label =0, percentage records =0.33\n",
      "Class label =1, percentage records =0.33\n",
      "Class label =2, percentage records =0.33\n",
      "\n",
      "Train data set class label distribution\n",
      "=========================================\n",
      "\n",
      "Class label =0, percentage records =0.33\n",
      "Class label =1, percentage records =0.33\n",
      "Class label =2, percentage records =0.33\n",
      "\n",
      "Test data set class label distribution\n",
      "=========================================\n",
      "\n",
      "Class label =0, percentage records =0.33\n",
      "Class label =1, percentage records =0.33\n",
      "Class label =2, percentage records =0.33\n",
      "\n",
      "Train data set class label distribution\n",
      "=========================================\n",
      "\n",
      "Class label =0, percentage records =0.33\n",
      "Class label =1, percentage records =0.33\n",
      "Class label =2, percentage records =0.33\n",
      "\n",
      "Test data set class label distribution\n",
      "=========================================\n",
      "\n",
      "Class label =0, percentage records =0.33\n",
      "Class label =1, percentage records =0.33\n",
      "Class label =2, percentage records =0.33\n",
      "\n",
      "Train data set class label distribution\n",
      "=========================================\n",
      "\n",
      "Class label =0, percentage records =0.33\n",
      "Class label =1, percentage records =0.33\n",
      "Class label =2, percentage records =0.33\n",
      "\n",
      "Test data set class label distribution\n",
      "=========================================\n",
      "\n",
      "Class label =0, percentage records =0.33\n",
      "Class label =1, percentage records =0.33\n",
      "Class label =2, percentage records =0.33\n",
      "\n",
      "Train data set class label distribution\n",
      "=========================================\n",
      "\n",
      "Class label =0, percentage records =0.33\n",
      "Class label =1, percentage records =0.33\n",
      "Class label =2, percentage records =0.33\n",
      "\n",
      "Test data set class label distribution\n",
      "=========================================\n",
      "\n",
      "Class label =0, percentage records =0.33\n",
      "Class label =1, percentage records =0.33\n",
      "Class label =2, percentage records =0.33\n",
      "\n",
      "Train data set class label distribution\n",
      "=========================================\n",
      "\n",
      "Class label =0, percentage records =0.33\n",
      "Class label =1, percentage records =0.33\n",
      "Class label =2, percentage records =0.33\n",
      "\n",
      "Test data set class label distribution\n",
      "=========================================\n",
      "\n",
      "Class label =0, percentage records =0.33\n",
      "Class label =1, percentage records =0.33\n",
      "Class label =2, percentage records =0.33\n",
      "\n",
      "Train data set class label distribution\n",
      "=========================================\n",
      "\n",
      "Class label =0, percentage records =0.33\n",
      "Class label =1, percentage records =0.33\n",
      "Class label =2, percentage records =0.33\n",
      "\n",
      "Test data set class label distribution\n",
      "=========================================\n",
      "\n",
      "Class label =0, percentage records =0.33\n",
      "Class label =1, percentage records =0.33\n",
      "Class label =2, percentage records =0.33\n",
      "\n",
      "Train data set class label distribution\n",
      "=========================================\n",
      "\n",
      "Class label =0, percentage records =0.33\n",
      "Class label =1, percentage records =0.33\n",
      "Class label =2, percentage records =0.33\n",
      "\n",
      "Test data set class label distribution\n",
      "=========================================\n",
      "\n",
      "Class label =0, percentage records =0.33\n",
      "Class label =1, percentage records =0.33\n",
      "Class label =2, percentage records =0.33\n",
      "\n",
      "Train data set class label distribution\n",
      "=========================================\n",
      "\n",
      "Class label =0, percentage records =0.33\n",
      "Class label =1, percentage records =0.33\n",
      "Class label =2, percentage records =0.33\n",
      "\n",
      "Test data set class label distribution\n",
      "=========================================\n",
      "\n",
      "Class label =0, percentage records =0.33\n",
      "Class label =1, percentage records =0.33\n",
      "Class label =2, percentage records =0.33\n"
     ]
    }
   ],
   "source": [
    "# Load the necesssary Library\n",
    "from sklearn.model_selection import train_test_split,StratifiedShuffleSplit\n",
    "from sklearn.datasets import load_iris\n",
    "import numpy as np\n",
    "\n",
    "def get_iris_data():\n",
    "    \"\"\"\n",
    "    Returns Iris dataset\n",
    "    \"\"\"\n",
    "    # Load iris dataset\n",
    "    data = load_iris()\n",
    "    # Extract the dependend and independent variables\n",
    "    # y is our class label\n",
    "    # x is our instances/records\n",
    "    x = data['data']\n",
    "    y = data['target']\n",
    "    # For ease we merge them\n",
    "    # column merge\n",
    "    input_dataset = np.column_stack([x,y])\n",
    "    # Let us shuffle the dataset\n",
    "    # We want records distributed randomly\n",
    "    # between our test and train set\n",
    "    np.random.shuffle(input_dataset)\n",
    "    return input_dataset\n",
    "\n",
    "print(get_iris_data)\n",
    "# We need 80/20 split.\n",
    "# 80% of our records for Training\n",
    "# 20% Remaining for our Test set\n",
    "train_size = 0.8\n",
    "test_size = 1-train_size\n",
    "\n",
    "# get the data\n",
    "input_dataset = get_iris_data()\n",
    "# Split the data\n",
    "train,test = train_test_split(input_dataset,test_size=test_size)\n",
    "\n",
    "# Print the size of original dataset\n",
    "print( \"Dataset size \",input_dataset.shape)\n",
    "# Print the train/test split\n",
    "print( \"Train size \",train.shape)\n",
    "print( \"Test size\",test.shape)\n",
    "\n",
    "def get_class_distribution(y):\n",
    "    \"\"\"Given an array of class labels\n",
    "    Return the class distribution\n",
    "    \"\"\"\n",
    "    distribution = {}\n",
    "    set_y = set(y)\n",
    "    for y_label in set_y:\n",
    "        no_elements = len(np.where(y == y_label)[0])\n",
    "        distribution[y_label] = no_elements\n",
    "    dist_percentage = {class_label: count/(1.0*sum(distribution.values())) for class_label,count in distribution.items()}\n",
    "    return dist_percentage\n",
    "\n",
    "def print_class_label_split(train,test):\n",
    "    \"\"\"\n",
    "    Print the class distribution\n",
    "    in test and train dataset\n",
    "    \"\"\"\n",
    "    y_train = train[:,-1]\n",
    "    train_distribution = get_class_distribution(y_train)\n",
    "    print( \"\\nTrain data set class label distribution\")\n",
    "    print( \"=========================================\\n\")\n",
    "    for k,v in train_distribution.items():\n",
    "        print( \"Class label =%d, percentage records =%.2f\"%(k,v))\n",
    "    y_test = test[:,-1]\n",
    "    test_distribution = get_class_distribution(y_test)\n",
    "    print( \"\\nTest data set class label distribution\")\n",
    "    print( \"=========================================\\n\")\n",
    "    for k,v in test_distribution.items():\n",
    "        print( \"Class label =%d, percentage records =%.2f\"%(k,v))\n",
    "        \n",
    "print_class_label_split(train,test)\n",
    "\n",
    "print(test)\n",
    "\n",
    "# Perform Split the data\n",
    "stratified_split = StratifiedShuffleSplit(n_splits=10,test_size=test_size,train_size=train_size)\n",
    "for train_indx,test_indx in stratified_split.split(input_dataset,input_dataset[:,-1]):\n",
    "    train = input_dataset[train_indx]\n",
    "    test = input_dataset[test_indx]\n",
    "    print_class_label_split(train,test)"
   ]
  },
  {
   "cell_type": "code",
   "execution_count": 251,
   "metadata": {},
   "outputs": [
    {
     "name": "stdout",
     "output_type": "stream",
     "text": [
      "TRAIN: [5 2 6 4 1 3] TEST: [7 0]\n",
      "TRAIN: [4 3 5 2 7 1] TEST: [6 0]\n",
      "TRAIN: [7 1 6 2 0 4] TEST: [5 3]\n",
      "TRAIN: [3 6 4 7 0 5] TEST: [1 2]\n",
      "TRAIN: [3 4 1 7 2 0] TEST: [6 5]\n"
     ]
    }
   ],
   "source": [
    "from sklearn.model_selection import StratifiedShuffleSplit\n",
    "import numpy as np\n",
    "X = np.array([[1, 2], [3, 4], [1, 2], [3, 4],\n",
    "[1, 2],[3, 4], [1, 2], [3, 4]])#训练数据集8*2\n",
    "y = np.array([0, 0, 1, 1,0,0,1,1])#类别数据集8*1\n",
    " \n",
    "ss=StratifiedShuffleSplit(n_splits=5,test_size=0.25,train_size=0.75,random_state=0)#分成5组，测试比例为0.25，训练比例是0.75\n",
    " \n",
    "for train_index, test_index in ss.split(X, y):\n",
    "    print(\"TRAIN:\", train_index, \"TEST:\", test_index)#获得索引值\n",
    "    X_train, X_test = X[train_index], X[test_index]#训练集对应的值\n",
    "    y_train, y_test = y[train_index], y[test_index]#类别集对应的值"
   ]
  },
  {
   "cell_type": "code",
   "execution_count": 253,
   "metadata": {},
   "outputs": [
    {
     "data": {
      "image/png": "[encoded data removed]",
      "text/plain": [
       "<Figure size 432x288 with 6 Axes>"
      ]
     },
     "metadata": {
      "needs_background": "light"
     },
     "output_type": "display_data"
    }
   ],
   "source": [
    "from sklearn.datasets import make_classification\n",
    "import numpy as np\n",
    "import matplotlib.pyplot as plt\n",
    "import itertools\n",
    "from sklearn.ensemble import BaggingClassifier\n",
    "from sklearn.neighbors import KNeighborsClassifier\n",
    "\n",
    "def get_data():\n",
    "    \"\"\"\n",
    "    Make a sample classification dataset\n",
    "    Returns : Independent variable y, dependent variable x\n",
    "    \"\"\"\n",
    "    x,y = make_classification(n_features=4)\n",
    "    return x,y\n",
    "\n",
    "def plot_data(x,y):\n",
    "    \"\"\"\n",
    "    Plot a scatter plot fo all variable combinations\n",
    "    \"\"\"\n",
    "    subplot_start = 321\n",
    "    col_numbers = range(0,4)\n",
    "    col_pairs = itertools.combinations(col_numbers,2)\n",
    "    for col_pair in col_pairs:\n",
    "        plt.subplot(subplot_start)\n",
    "        plt.scatter(x[:,col_pair[0]],x[:,col_pair[1]],c=y)\n",
    "        title_string = str(col_pair[0]) + \"-\" + str(col_pair[1])\n",
    "        plt.title(title_string)\n",
    "        x_label = str(col_pair[0])\n",
    "        y_label = str(col_pair[1])\n",
    "        plt.xlabel(x_label)\n",
    "        plt.xlabel(y_label)\n",
    "        subplot_start+=1\n",
    "    plt.show()\n",
    "    \n",
    "x,y = get_data()\n",
    "plot_data(x,y)"
   ]
  },
  {
   "cell_type": "code",
   "execution_count": 258,
   "metadata": {},
   "outputs": [
    {
     "data": {
      "image/png": "[encoded data removed]",
      "text/plain": [
       "<Figure size 432x288 with 6 Axes>"
      ]
     },
     "metadata": {
      "needs_background": "light"
     },
     "output_type": "display_data"
    },
    {
     "name": "stdout",
     "output_type": "stream",
     "text": [
      "\n",
      "Model evaluation on training set\n",
      "================================\n",
      "\n",
      "              precision    recall  f1-score   support\n",
      "\n",
      "         0.0       0.87      1.00      0.93        40\n",
      "         1.0       1.00      0.85      0.92        40\n",
      "\n",
      "    accuracy                           0.93        80\n",
      "   macro avg       0.93      0.93      0.92        80\n",
      "weighted avg       0.93      0.93      0.92        80\n",
      "\n",
      "\n",
      "Model evaluation on test set\n",
      "================================\n",
      "\n",
      "              precision    recall  f1-score   support\n",
      "\n",
      "         0.0       0.77      1.00      0.87        10\n",
      "         1.0       1.00      0.70      0.82        10\n",
      "\n",
      "    accuracy                           0.85        20\n",
      "   macro avg       0.88      0.85      0.85        20\n",
      "weighted avg       0.88      0.85      0.85        20\n",
      "\n"
     ]
    }
   ],
   "source": [
    "from sklearn.model_selection import StratifiedShuffleSplit\n",
    "from sklearn.neighbors import KNeighborsClassifier\n",
    "from sklearn.metrics import classification_report\n",
    "\n",
    "def get_train_test(x,y):\n",
    "    \"\"\"\n",
    "    Perpare a stratified train and test split\n",
    "    \"\"\"\n",
    "    train_size = 0.8\n",
    "    test_size = 1-train_size\n",
    "    input_dataset = np.column_stack([x,y])\n",
    "    stratified_split = StratifiedShuffleSplit(n_splits=10,test_size=test_size)\n",
    "    \n",
    "    for train_indx,test_indx in stratified_split.split(input_dataset, input_dataset[:,-1]):\n",
    "        train_x = input_dataset[train_indx,:-1]\n",
    "        train_y = input_dataset[train_indx,-1]\n",
    "        test_x = input_dataset[test_indx,:-1]\n",
    "        test_y = input_dataset[test_indx,-1]\n",
    "        \n",
    "    return train_x,train_y,test_x,test_y\n",
    "\n",
    "\n",
    "def build_model(x,y,k=2):\n",
    "    \"\"\"\n",
    "    Fit a nearest neighbour model\n",
    "    \"\"\"\n",
    "    knn = KNeighborsClassifier(n_neighbors=k)\n",
    "    knn.fit(x,y)\n",
    "    return knn\n",
    "\n",
    "def test_model(x,y,knn_model):\n",
    "    y_predicted = knn_model.predict(x)\n",
    "    print(classification_report(y,y_predicted))\n",
    "    \n",
    "\n",
    "if __name__ == \"__main__\":\n",
    "    # Load the data\n",
    "    x,y = get_data()\n",
    "    # Scatter plot the data\n",
    "    plot_data(x,y)\n",
    "    # Split the data into train and test\n",
    "    train_x,train_y,test_x,test_y = get_train_test(x,y)\n",
    "    # Build the model\n",
    "    knn_model = build_model(train_x,train_y)\n",
    "    # Test the model\n",
    "    print(\"\\nModel evaluation on training set\")\n",
    "    print(\"================================\\n\")\n",
    "    test_model(train_x,train_y,knn_model)\n",
    "    print(\"\\nModel evaluation on test set\")\n",
    "    print(\"================================\\n\")\n",
    "    test_model(test_x,test_y,knn_model)"
   ]
  },
  {
   "cell_type": "code",
   "execution_count": 259,
   "metadata": {},
   "outputs": [
    {
     "ename": "ModuleNotFoundError",
     "evalue": "No module named 'nltk'",
     "output_type": "error",
     "traceback": [
      "\u001b[0;31m---------------------------------------------------------------------------\u001b[0m",
      "\u001b[0;31mModuleNotFoundError\u001b[0m                       Traceback (most recent call last)",
      "\u001b[0;32m<ipython-input-259-b2dbe80ae133>\u001b[0m in \u001b[0;36m<module>\u001b[0;34m\u001b[0m\n\u001b[0;32m----> 1\u001b[0;31m \u001b[0;32mfrom\u001b[0m \u001b[0mnltk\u001b[0m\u001b[0;34m.\u001b[0m\u001b[0mcorpus\u001b[0m \u001b[0;32mimport\u001b[0m \u001b[0mmovie_reviews\u001b[0m\u001b[0;34m\u001b[0m\u001b[0;34m\u001b[0m\u001b[0m\n\u001b[0m\u001b[1;32m      2\u001b[0m \u001b[0;32mfrom\u001b[0m \u001b[0msklearn\u001b[0m\u001b[0;34m.\u001b[0m\u001b[0mmodel_selection\u001b[0m \u001b[0;32mimport\u001b[0m \u001b[0mStratifiedShuffleSplit\u001b[0m\u001b[0;34m\u001b[0m\u001b[0;34m\u001b[0m\u001b[0m\n\u001b[1;32m      3\u001b[0m \u001b[0;32mimport\u001b[0m \u001b[0mnltk\u001b[0m\u001b[0;34m\u001b[0m\u001b[0;34m\u001b[0m\u001b[0m\n\u001b[1;32m      4\u001b[0m \u001b[0;32mfrom\u001b[0m \u001b[0mnltk\u001b[0m\u001b[0;34m.\u001b[0m\u001b[0mcorpus\u001b[0m \u001b[0;32mimport\u001b[0m \u001b[0mstopwords\u001b[0m\u001b[0;34m\u001b[0m\u001b[0;34m\u001b[0m\u001b[0m\n\u001b[1;32m      5\u001b[0m \u001b[0;32mfrom\u001b[0m \u001b[0mnltk\u001b[0m\u001b[0;34m.\u001b[0m\u001b[0mcollocations\u001b[0m \u001b[0;32mimport\u001b[0m \u001b[0mBigramCollocationFinder\u001b[0m\u001b[0;34m\u001b[0m\u001b[0;34m\u001b[0m\u001b[0m\n",
      "\u001b[0;31mModuleNotFoundError\u001b[0m: No module named 'nltk'"
     ]
    }
   ],
   "source": [
    "from nltk.corpus import movie_reviews\n",
    "from sklearn.model_selection import StratifiedShuffleSplit\n",
    "import nltk\n",
    "from nltk.corpus import stopwords\n",
    "from nltk.collocations import BigramCollocationFinder\n",
    "from nltk.metrics import BigramAssocMeasures\n",
    "\n",
    "def get_data():\n",
    "    \"\"\"\n",
    "    Get movie review data\n",
    "    \"\"\"\n",
    "    dataset = []\n",
    "    y_labels = []\n",
    "    # Extract categories\n",
    "    for cat in movie_reviews.categories():\n",
    "        # for files in each cateogry\n",
    "        for fileid in movie_reviews.fileids(cat):\n",
    "            # Get the words in that category\n",
    "            words = list(movie_reviews.words(fileid))\n",
    "            dataset.append((words,cat))\n",
    "            y_labels.append(cat)\n",
    "    return dataset,y_labels\n",
    "\n"
   ]
  },
  {
   "cell_type": "code",
   "execution_count": 271,
   "metadata": {},
   "outputs": [
    {
     "data": {
      "text/plain": [
       "0"
      ]
     },
     "execution_count": 271,
     "metadata": {},
     "output_type": "execute_result"
    }
   ],
   "source": [
    "import math\n",
    "def prob(data,element):\n",
    "    \"\"\"Calculates the percentage count of a given element\n",
    "    Given a list and an element, returns the elements percentage count\n",
    "    \"\"\"\n",
    "    element_count =0\n",
    "    # Test conditoin to check if we have proper input\n",
    "    if len(data) == 0 or element == None or not isinstance(element,(int,long,float)):\n",
    "        return None\n",
    "    element_count = data.count(element)\n",
    "    return element_count / (1.0 * len(data))\n",
    "def entropy(data):\n",
    "    \"\"\"\"Calcuate entropy\n",
    "    \"\"\"\n",
    "    entropy =0.0\n",
    "    if len(data) == 0:\n",
    "        return None\n",
    "    if len(data) == 1:\n",
    "        return 0\n",
    "    \n",
    "    try:\n",
    "        for element in data:\n",
    "            p = prob(data,element)\n",
    "            entropy += -1*p*math.log(p,2)\n",
    "    except ValueError as e:\n",
    "        print(e.message)\n",
    "        \n",
    "    return entropy\n",
    "\n",
    "\n",
    "X = {2, 2}\n",
    "\n",
    "entropy(X)"
   ]
  },
  {
   "cell_type": "code",
   "execution_count": 274,
   "metadata": {},
   "outputs": [
    {
     "name": "stdout",
     "output_type": "stream",
     "text": [
      "Model accuracy = 100.00%\n",
      "\n",
      "\n",
      "Confusion Matrix\n",
      "=================\n",
      "array([[40,  0,  0],\n",
      "       [ 0, 40,  0],\n",
      "       [ 0,  0, 40]])\n",
      "None\n",
      "\n",
      "Classification Report\n",
      "=================\n",
      "              precision    recall  f1-score   support\n",
      "\n",
      "      setosa       1.00      1.00      1.00        40\n",
      "  versicolor       1.00      1.00      1.00        40\n",
      "   virginica       1.00      1.00      1.00        40\n",
      "\n",
      "    accuracy                           1.00       120\n",
      "   macro avg       1.00      1.00      1.00       120\n",
      "weighted avg       1.00      1.00      1.00       120\n",
      "\n",
      "Model accuracy = 100.00%\n",
      "\n",
      "\n",
      "Confusion Matrix\n",
      "=================\n",
      "array([[10,  0,  0],\n",
      "       [ 0, 10,  0],\n",
      "       [ 0,  0, 10]])\n",
      "None\n",
      "\n",
      "Classification Report\n",
      "=================\n",
      "              precision    recall  f1-score   support\n",
      "\n",
      "      setosa       1.00      1.00      1.00        10\n",
      "  versicolor       1.00      1.00      1.00        10\n",
      "   virginica       1.00      1.00      1.00        10\n",
      "\n",
      "    accuracy                           1.00        30\n",
      "   macro avg       1.00      1.00      1.00        30\n",
      "weighted avg       1.00      1.00      1.00        30\n",
      "\n"
     ]
    }
   ],
   "source": [
    "from sklearn.datasets import load_iris\n",
    "from sklearn.model_selection import StratifiedShuffleSplit\n",
    "import numpy as np\n",
    "from sklearn import tree\n",
    "from sklearn.metrics import accuracy_score,classification_report,confusion_matrix\n",
    "import pprint\n",
    "\n",
    "def get_data():\n",
    "    \"\"\"\n",
    "    Get Iris data\n",
    "    \"\"\"\n",
    "    data = load_iris()\n",
    "    x = data['data']\n",
    "    y = data['target']\n",
    "    label_names = data['target_names']\n",
    "    return x,y,label_names.tolist()\n",
    "\n",
    "def get_train_test(x,y):\n",
    "    \"\"\"\n",
    "    Perpare a stratified train and test split\n",
    "    \"\"\"\n",
    "    train_size = 0.8\n",
    "    test_size = 1-train_size\n",
    "    input_dataset = np.column_stack([x,y])\n",
    "    stratified_split = StratifiedShuffleSplit(test_size=test_size,n_splits=1,random_state = 77)\n",
    "    for train_indx,test_indx in stratified_split.split(input_dataset,input_dataset[:,-1]):\n",
    "        train_x = input_dataset[train_indx,:-1]\n",
    "        train_y = input_dataset[train_indx,-1]\n",
    "        test_x = input_dataset[test_indx,:-1]\n",
    "        test_y = input_dataset[test_indx,-1]\n",
    "    return train_x,train_y,test_x,test_y\n",
    "\n",
    "\n",
    "def build_model(x,y):\n",
    "    \"\"\"\n",
    "    Fit the model for the given attribute\n",
    "    class label pairs\n",
    "    \"\"\"\n",
    "    model = tree.DecisionTreeClassifier(criterion=\"entropy\")\n",
    "    model = model.fit(x,y)\n",
    "    return model\n",
    "\n",
    "def test_model(x,y,model,label_names):\n",
    "    \"\"\"\n",
    "    Inspect the model for accuracy\n",
    "    \"\"\"\n",
    "    y_predicted = model.predict(x)\n",
    "    print( \"Model accuracy = %0.2f\"%(accuracy_score(y,y_predicted) * 100) + \"%\\n\")\n",
    "    print( \"\\nConfusion Matrix\")\n",
    "    print( \"=================\")\n",
    "    print( pprint.pprint(confusion_matrix(y,y_predicted)))\n",
    "    print( \"\\nClassification Report\")\n",
    "    print( \"=================\")\n",
    "    print( classification_report(y,y_predicted,target_names=label_names))\n",
    "    \n",
    "if __name__ == \"__main__\":\n",
    "    # Load the data\n",
    "    x,y,label_names = get_data()\n",
    "    # Split the data into train and test\n",
    "    train_x,train_y,test_x,test_y = get_train_test(x,y)\n",
    "    # Build model\n",
    "    model = build_model(train_x,train_y)\n",
    "    # Evaluate the model on train dataset\n",
    "    test_model(train_x,train_y,model,label_names)\n",
    "    # Evaluate the model on test dataset\n",
    "    test_model(test_x,test_y,model,label_names)"
   ]
  },
  {
   "cell_type": "code",
   "execution_count": 278,
   "metadata": {},
   "outputs": [
    {
     "data": {
      "image/png": "[encoded data removed]",
      "text/plain": [
       "<Figure size 432x288 with 1 Axes>"
      ]
     },
     "metadata": {
      "needs_background": "light"
     },
     "output_type": "display_data"
    },
    {
     "name": "stdout",
     "output_type": "stream",
     "text": [
      "\n",
      " Model coeffiecients\n",
      "======================\n",
      "\n",
      "\tCoefficient 1 -0.111\n",
      "\tCoefficient 2 0.044\n",
      "\tCoefficient 3 0.053\n",
      "\tCoefficient 4 2.234\n",
      "\tCoefficient 5 -15.840\n",
      "\tCoefficient 6 3.892\n",
      "\tCoefficient 7 0.001\n",
      "\tCoefficient 8 -1.321\n",
      "\tCoefficient 9 0.285\n",
      "\tCoefficient 10 -0.012\n",
      "\tCoefficient 11 -0.903\n",
      "\tCoefficient 12 0.008\n",
      "\tCoefficient 13 -0.528\n",
      "\n",
      "\tIntercept 33.238\n",
      "\n",
      " Model Performance in Training set\n",
      "\n",
      "\t Mean squared error = 23.17\n",
      "\n",
      " Model Performance in Dev set\n",
      "\n",
      "\t Mean squared error = 18.27\n",
      "\n",
      " Model Performance in Training set (Polynomial features)\n",
      "\n",
      "\t Mean squared error = 5.46\n",
      "\n",
      " Model Performance in Dev set (Polynomial features)\n",
      "\n",
      "\t Mean squared error = 13.33\n",
      "\n",
      " Model Performance in Test set\n",
      "\t Mean squared error = 15.10\n",
      "\n",
      " Model Performance in Test set\n",
      "\t Mean squared error = 21.67\n"
     ]
    }
   ],
   "source": [
    "# Load libraries\n",
    "from sklearn.datasets import load_boston\n",
    "from sklearn.model_selection import train_test_split\n",
    "from sklearn.linear_model import LinearRegression\n",
    "from sklearn.metrics import mean_squared_error\n",
    "import matplotlib.pyplot as plt\n",
    "\n",
    "from sklearn.preprocessing import PolynomialFeatures\n",
    "\n",
    "def get_data():\n",
    "    \"\"\"\n",
    "    Return boston dataset\n",
    "    as x - predictor and\n",
    "    y - response variable\n",
    "    \"\"\"\n",
    "    data  = load_boston()\n",
    "    x = data['data']\n",
    "    y = data['target']\n",
    "    \n",
    "    return x,y\n",
    "\n",
    "\n",
    "def build_model(x,y):\n",
    "    \"\"\"\n",
    "    Build a linear regression model\n",
    "    \"\"\"\n",
    "    model = LinearRegression(normalize=True, fit_intercept=True)\n",
    "    model.fit(x,y)\n",
    "    return model\n",
    "\n",
    "def view_model(model):\n",
    "    \"\"\"\n",
    "    Look at model coeffiecients\n",
    "    \"\"\"\n",
    "    print( \"\\n Model coeffiecients\")\n",
    "    print( \"======================\\n\")\n",
    "    for i,coef in enumerate(model.coef_):\n",
    "        print( \"\\tCoefficient %d %0.3f\"%(i+1,coef))\n",
    "    print( \"\\n\\tIntercept %0.3f\"%(model.intercept_))\n",
    "    \n",
    "def model_worth(true_y, predicted_y):\n",
    "    \"\"\"\n",
    "    Evaluate  the model\n",
    "    \"\"\"\n",
    "    print(\"\\t Mean squared error = %0.2f\" % (mean_squared_error(true_y,predicted_y)))\n",
    "    \n",
    "def plot_residual(y,predicted_y):\n",
    "    \"\"\"\n",
    "    Plot residuals\n",
    "    \"\"\"\n",
    "    plt.cla()\n",
    "    plt.xlabel(\"Predicted Y\")\n",
    "    plt.ylabel(\"Residual\")\n",
    "    plt.title(\"Residual Plot\")\n",
    "    plt.figure(1)\n",
    "    \n",
    "    diff = y - predicted_y\n",
    "    \n",
    "    plt.plot(predicted_y, diff, 'go')\n",
    "    plt.show()\n",
    "    \n",
    "\n",
    "if __name__ == \"__main__\":\n",
    "    x,y = get_data()\n",
    "    \n",
    "    # Divide the data into Train, dev and test\n",
    "    x_train,x_test_all,y_train,y_test_all = train_test_split(x,y,test_size = 0.3,random_state=9)\n",
    "    x_dev,x_test,y_dev,y_test = train_test_split(x_test_all,y_test_all,test_size=0.3,random_state=9)\n",
    "    \n",
    "    # Build the model\n",
    "    model = build_model(x_train,y_train)\n",
    "    predicted_y = model.predict(x_train)\n",
    "    \n",
    "    # Plot the residual\n",
    "    plot_residual(y_train,predicted_y)\n",
    "    \n",
    "    # View model coeffiecients\n",
    "    view_model(model)\n",
    "    print( \"\\n Model Performance in Training set\\n\")\n",
    "    model_worth(y_train,predicted_y)\n",
    "    \n",
    "    # Apply the model on dev set\n",
    "    predicted_y = model.predict(x_dev)\n",
    "    print( \"\\n Model Performance in Dev set\\n\")\n",
    "    model_worth(y_dev,predicted_y)\n",
    "    \n",
    "    #Prepare some polynomial features\n",
    "    poly_features = PolynomialFeatures(2)\n",
    "    poly_features.fit(x_train)\n",
    "    x_train_poly = poly_features.transform(x_train)\n",
    "    x_dev_poly = poly_features.transform(x_dev)\n",
    "    \n",
    "    # Build model with polynomial features\n",
    "    model_poly = build_model(x_train_poly,y_train)\n",
    "    predicted_y = model_poly.predict(x_train_poly)\n",
    "    print(\"\\n Model Performance in Training set (Polynomial features)\\n\")\n",
    "    model_worth(y_train,predicted_y)\n",
    "    \n",
    "    # Apply the model on dev set\n",
    "    predicted_y = model_poly.predict(x_dev_poly)\n",
    "    print( \"\\n Model Performance in Dev set (Polynomial features)\\n\")\n",
    "    model_worth(y_dev,predicted_y)\n",
    "    \n",
    "    # Apply the model on Test set\n",
    "    x_test_poly = poly_features.transform(x_test)\n",
    "    predicted_y = model_poly.predict(x_test_poly)\n",
    "    print( \"\\n Model Performance in Test set\")\n",
    "    model_worth(y_test,predicted_y)\n",
    "    predicted_y = model.predict(x_test)\n",
    "    print( \"\\n Model Performance in Test set\")\n",
    "    model_worth(y_test,predicted_y)"
   ]
  },
  {
   "cell_type": "code",
   "execution_count": null,
   "metadata": {},
   "outputs": [],
   "source": []
  }
 ],
 "metadata": {
  "kernelspec": {
   "display_name": "Python 3",
   "language": "python",
   "name": "python3"
  },
  "language_info": {
   "codemirror_mode": {
    "name": "ipython",
    "version": 3
   },
   "file_extension": ".py",
   "mimetype": "text/x-python",
   "name": "python",
   "nbconvert_exporter": "python",
   "pygments_lexer": "ipython3",
   "version": "3.7.3"
  }
 },
 "nbformat": 4,
 "nbformat_minor": 4
}
