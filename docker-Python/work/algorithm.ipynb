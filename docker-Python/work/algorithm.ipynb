{
 "cells": [
  {
   "cell_type": "code",
   "execution_count": 1,
   "metadata": {},
   "outputs": [
    {
     "data": {
      "text/plain": [
       "4"
      ]
     },
     "execution_count": 1,
     "metadata": {},
     "output_type": "execute_result"
    }
   ],
   "source": [
    "# Algorithms\n",
    "\n",
    "## 1. Searching\n",
    "### 1.1 Linear Searching\n",
    "def linearSearch(x, nums):\n",
    "    for i in range(len(nums)):\n",
    "        if nums[i] == x:\n",
    "            return i\n",
    "    return -1\n",
    "\n",
    "linearSearch(5, [1,2,3,4,5,6,7,8,9,10])"
   ]
  },
  {
   "cell_type": "code",
   "execution_count": 3,
   "metadata": {},
   "outputs": [
    {
     "data": {
      "text/plain": [
       "4"
      ]
     },
     "execution_count": 3,
     "metadata": {},
     "output_type": "execute_result"
    }
   ],
   "source": [
    "### 1.2 Bianry Searching\n",
    "def binarySearch(x, nums):\n",
    "    low = 0\n",
    "    high = len(nums) - 1\n",
    "    while low <= high:\n",
    "        mid = int((low + high) / 2)\n",
    "        item =  nums[mid]\n",
    "        if x ==  item:\n",
    "            return mid\n",
    "        elif x < item:\n",
    "            high = mid - 1\n",
    "        else:\n",
    "            low = mid + 1\n",
    "    return -1\n",
    "\n",
    "\n",
    "binarySearch(5,[1,2,3,4,5,6,7,8,9,10])"
   ]
  },
  {
   "cell_type": "code",
   "execution_count": 4,
   "metadata": {},
   "outputs": [
    {
     "data": {
      "text/plain": [
       "3628800"
      ]
     },
     "execution_count": 4,
     "metadata": {},
     "output_type": "execute_result"
    }
   ],
   "source": [
    "### 1.3 Recursive\n",
    "def fact(n):\n",
    "    if n == 0:\n",
    "        return 1\n",
    "    else:\n",
    "        return n * fact(n-1)\n",
    "    \n",
    "\n",
    "fact(10)"
   ]
  },
  {
   "cell_type": "code",
   "execution_count": 11,
   "metadata": {},
   "outputs": [
    {
     "data": {
      "text/plain": [
       "4"
      ]
     },
     "execution_count": 11,
     "metadata": {},
     "output_type": "execute_result"
    }
   ],
   "source": [
    "### 1.4 Recursive Searching\n",
    "def recBinSearch(x, nums, low, high):\n",
    "    if low > high:\n",
    "        return -1\n",
    "    mid = int((low + high) / 2)\n",
    "    item = nums[mid]\n",
    "    if item == x:\n",
    "        return mid\n",
    "    elif x < item:\n",
    "        recBinSearch(x, nums, low, mid-1)\n",
    "    else: \n",
    "        recBinSearch(x, nums, mid+1, high)\n",
    "        \n",
    "\n",
    "recBinSearch(5, [1,2,3,4,5,6,7,8,9,10],0,9)"
   ]
  },
  {
   "cell_type": "code",
   "execution_count": 21,
   "metadata": {},
   "outputs": [
    {
     "data": {
      "text/plain": [
       "[1, 2, 3, 4, 5, 6, 7, 8, 9, 10]"
      ]
     },
     "execution_count": 21,
     "metadata": {},
     "output_type": "execute_result"
    }
   ],
   "source": [
    "## 2. Sorting\n",
    "### 2.1 Selection Sort (Native Sorting)\n",
    "def selSort(nums):\n",
    "    n = len(nums)\n",
    "    \n",
    "    for bottom in range(n-1):\n",
    "        mp = bottom\n",
    "        for i in range(bottom+1, n):\n",
    "            if nums[i] < nums[mp]:\n",
    "                mp = i\n",
    "        nums[bottom], nums[mp] = nums[mp], nums[bottom]\n",
    "        \n",
    "    return nums\n",
    "        \n",
    "\n",
    "selSort([3,2,1,6,7,5,10,4,8,9])"
   ]
  },
  {
   "cell_type": "code",
   "execution_count": null,
   "metadata": {},
   "outputs": [],
   "source": [
    "### 2.2 Divide and Conquer: Merge Sort"
   ]
  },
  {
   "cell_type": "code",
   "execution_count": 16,
   "metadata": {},
   "outputs": [
    {
     "name": "stdout",
     "output_type": "stream",
     "text": [
      "1024.0\n"
     ]
    }
   ],
   "source": [
    "### Power(x,n)\n",
    "import time\n",
    "\n",
    "## 快速幂+递归\n",
    "## 时间复杂度：O(\\log n)O(logn)，即为递归的层数。\n",
    "## 空间复杂度：O(\\log n)O(logn)，即为递归的层数。这是由于递归的函数调用会使用栈空间。\n",
    "class Solution:\n",
    "    def myPow(self, x: float, n: int) -> float:\n",
    "        def quickMul(n):\n",
    "            if n == 0:\n",
    "                return 1.0\n",
    "            y = quickMul(n // 2)\n",
    "            return y * y if n % 2 == 0 else y * y * x\n",
    "        \n",
    "        return quickMul(n) if n >= 0 else 1.0 / quickMul(-n)\n",
    "    \n",
    "\n",
    "## 快速幂+迭代\n",
    "## 时间复杂度：O(\\log n)O(logn)，即为对 nn 进行二进制拆分的时间复杂度。\n",
    "## 空间复杂度：O(1)O(1)。\n",
    "class Solution:\n",
    "    def myPow(self, x: float, n: int) -> float:\n",
    "        def quickMul(N):\n",
    "            ans = 1.0\n",
    "            # 贡献的初始值为 x\n",
    "            x_contribute = x\n",
    "            # 在对 N 进行二进制拆分的同时计算答案\n",
    "            while N > 0:\n",
    "                if N % 2 == 1:\n",
    "                    # 如果 N 二进制表示的最低位为 1，那么需要计入贡献\n",
    "                    ans *= x_contribute\n",
    "                # 将贡献不断地平方\n",
    "                x_contribute *= x_contribute\n",
    "                # 舍弃 N 二进制表示的最低位，这样我们每次只要判断最低位即可\n",
    "                N //= 2\n",
    "            return ans\n",
    "        \n",
    "        return quickMul(n) if n >= 0 else 1.0 / quickMul(-n)\n",
    "  \n",
    "    \n",
    "start  = time.time()\n",
    "\n",
    "# sl = Solution()\n",
    "# sl.myPow(2.0,-3)\n",
    "\n",
    "sl = Solution()\n",
    "print(sl.myPow(2.0,10))\n",
    "\n",
    "end = time.time()\n",
    "\n",
    "# end-start\n",
    "# print(end-start)"
   ]
  },
  {
   "cell_type": "code",
   "execution_count": 8,
   "metadata": {},
   "outputs": [
    {
     "name": "stdout",
     "output_type": "stream",
     "text": [
      "0 1 1 2 3 5 8 13 21 34 55 89 144 233 377 610 987  \n"
     ]
    }
   ],
   "source": [
    "### # Python 3: Fibonacci series up to n\n",
    "def fib(n):\n",
    "    a, b = 0, 1\n",
    "    while a < n:\n",
    "        print(a, end=' ')\n",
    "        a, b = b, a+b\n",
    "    print(' ')\n",
    "    \n",
    "fib(1000)"
   ]
  },
  {
   "cell_type": "code",
   "execution_count": null,
   "metadata": {},
   "outputs": [],
   "source": []
  }
 ],
 "metadata": {
  "kernelspec": {
   "display_name": "Python 3",
   "language": "python",
   "name": "python3"
  },
  "language_info": {
   "codemirror_mode": {
    "name": "ipython",
    "version": 3
   },
   "file_extension": ".py",
   "mimetype": "text/x-python",
   "name": "python",
   "nbconvert_exporter": "python",
   "pygments_lexer": "ipython3",
   "version": "3.7.3"
  }
 },
 "nbformat": 4,
 "nbformat_minor": 2
}
