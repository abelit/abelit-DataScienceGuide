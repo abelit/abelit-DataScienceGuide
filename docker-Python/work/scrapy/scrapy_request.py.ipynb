{
 "cells": [
  {
   "cell_type": "code",
   "execution_count": 11,
   "metadata": {},
   "outputs": [
    {
     "name": "stdout",
     "output_type": "stream",
     "text": [
      "ok <http.client.HTTPResponse object at 0x7f934a5aec50> 200 Content-Type: application/json\n",
      "Server: Microsoft-IIS/10.0\n",
      "Access-Control-Allow-Origin: *\n",
      "X-Powered-By: ASP.NET\n",
      "Date: Mon, 18 May 2020 03:03:19 GMT\n",
      "Connection: close\n",
      "Content-Length: 2108514\n",
      "\n",
      " True\n"
     ]
    }
   ],
   "source": [
    "from urllib import request\n",
    "\n",
    "response = request.urlopen('http://10.46.101.70:5060/api/employee/attend')\n",
    "\n",
    "xml = open(R'./test.txt', 'w+', encoding='utf-8')\n",
    "\n",
    "html = response.read()\n",
    "\n",
    "xml.write(str(html.decode('utf-8')))\n",
    "\n",
    "xml.close()\n",
    "\n",
    "print(\"ok\",response,response.status,response.headers,xml.closed)"
   ]
  },
  {
   "cell_type": "code",
   "execution_count": null,
   "metadata": {},
   "outputs": [],
   "source": []
  }
 ],
 "metadata": {
  "kernelspec": {
   "display_name": "Python 3",
   "language": "python",
   "name": "python3"
  },
  "language_info": {
   "codemirror_mode": {
    "name": "ipython",
    "version": 3
   },
   "file_extension": ".py",
   "mimetype": "text/x-python",
   "name": "python",
   "nbconvert_exporter": "python",
   "pygments_lexer": "ipython3",
   "version": "3.7.3"
  }
 },
 "nbformat": 4,
 "nbformat_minor": 2
}
